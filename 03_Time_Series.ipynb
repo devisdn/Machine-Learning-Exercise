{
  "nbformat": 4,
  "nbformat_minor": 0,
  "metadata": {
    "colab": {
      "name": "03_Time_Series.ipynb",
      "provenance": [],
      "collapsed_sections": []
    },
    "kernelspec": {
      "name": "python3",
      "display_name": "Python 3"
    },
    "language_info": {
      "name": "python"
    }
  },
  "cells": [
    {
      "cell_type": "code",
      "metadata": {
        "id": "zFLkAmggw0p8"
      },
      "source": [
        "import tensorflow as tf\n",
        "import numpy as np\n",
        "import pandas as pd\n",
        "from keras.layers import Dense, LSTM\n",
        "import matplotlib.pyplot as plt"
      ],
      "execution_count": null,
      "outputs": []
    },
    {
      "cell_type": "code",
      "metadata": {
        "id": "sv3Bdpnnw4uT"
      },
      "source": [
        "# install kaggle package\n",
        "!pip install -q kaggle"
      ],
      "execution_count": null,
      "outputs": []
    },
    {
      "cell_type": "code",
      "metadata": {
        "colab": {
          "resources": {
            "http://localhost:8080/nbextensions/google.colab/files.js": {
              "data": "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",
              "ok": true,
              "headers": [
                [
                  "content-type",
                  "application/javascript"
                ]
              ],
              "status": 200,
              "status_text": ""
            }
          },
          "base_uri": "https://localhost:8080/",
          "height": 91
        },
        "id": "zol37vsLy53O",
        "outputId": "9364cc37-4693-4d15-f788-c7944e4217c5"
      },
      "source": [
        "# upload kaggle.json\n",
        "from google.colab import files\n",
        "files.upload()"
      ],
      "execution_count": null,
      "outputs": [
        {
          "output_type": "display_data",
          "data": {
            "text/html": [
              "\n",
              "     <input type=\"file\" id=\"files-fb78655f-a509-49e3-baae-9c8d07f96e69\" name=\"files[]\" multiple disabled\n",
              "        style=\"border:none\" />\n",
              "     <output id=\"result-fb78655f-a509-49e3-baae-9c8d07f96e69\">\n",
              "      Upload widget is only available when the cell has been executed in the\n",
              "      current browser session. Please rerun this cell to enable.\n",
              "      </output>\n",
              "      <script src=\"/nbextensions/google.colab/files.js\"></script> "
            ],
            "text/plain": [
              "<IPython.core.display.HTML object>"
            ]
          },
          "metadata": {}
        },
        {
          "output_type": "stream",
          "name": "stdout",
          "text": [
            "Saving kaggle.json to kaggle.json\n"
          ]
        },
        {
          "output_type": "execute_result",
          "data": {
            "text/plain": [
              "{'kaggle.json': b'{\"username\":\"devisdestiannugraha\",\"key\":\"bee36c4a86c43a4117f92345da40f1e2\"}'}"
            ]
          },
          "metadata": {},
          "execution_count": 3
        }
      ]
    },
    {
      "cell_type": "code",
      "metadata": {
        "colab": {
          "base_uri": "https://localhost:8080/"
        },
        "id": "eDdzWGUNyQE6",
        "outputId": "c57f90da-9d7c-48dc-f38f-fd6ac7f6449e"
      },
      "source": [
        "!mkdir -p ~/.kaggle\n",
        "!cp kaggle.json ~/.kaggle/\n",
        "!chmod 600 ~/.kaggle/kaggle.json\n",
        "!ls ~/.kaggle"
      ],
      "execution_count": null,
      "outputs": [
        {
          "output_type": "stream",
          "name": "stdout",
          "text": [
            "kaggle.json\n"
          ]
        }
      ]
    },
    {
      "cell_type": "code",
      "metadata": {
        "colab": {
          "base_uri": "https://localhost:8080/"
        },
        "id": "l2PJb85uzFP6",
        "outputId": "71030626-2cb7-487c-c078-7770abea18de"
      },
      "source": [
        "!kaggle datasets download -d sumanthvrao/daily-climate-time-series-data"
      ],
      "execution_count": null,
      "outputs": [
        {
          "output_type": "stream",
          "name": "stdout",
          "text": [
            "Downloading daily-climate-time-series-data.zip to /content\n",
            "\r  0% 0.00/22.0k [00:00<?, ?B/s]\n",
            "\r100% 22.0k/22.0k [00:00<00:00, 8.77MB/s]\n"
          ]
        }
      ]
    },
    {
      "cell_type": "code",
      "metadata": {
        "colab": {
          "base_uri": "https://localhost:8080/"
        },
        "id": "gGx1-BdrzUFy",
        "outputId": "c35447b0-2271-4549-a612-d9436fc030bd"
      },
      "source": [
        "# unzip\n",
        "!mkdir daily-climate-time-series-data\n",
        "!unzip daily-climate-time-series-data.zip -d daily-climate-time-series-data\n",
        "!ls daily-climate-time-series-data"
      ],
      "execution_count": null,
      "outputs": [
        {
          "output_type": "stream",
          "name": "stdout",
          "text": [
            "Archive:  daily-climate-time-series-data.zip\n",
            "  inflating: daily-climate-time-series-data/DailyDelhiClimateTest.csv  \n",
            "  inflating: daily-climate-time-series-data/DailyDelhiClimateTrain.csv  \n",
            "DailyDelhiClimateTest.csv  DailyDelhiClimateTrain.csv\n"
          ]
        }
      ]
    },
    {
      "cell_type": "code",
      "metadata": {
        "colab": {
          "base_uri": "https://localhost:8080/",
          "height": 357
        },
        "id": "4wmSKOGWzWaN",
        "outputId": "b5e7690a-952d-4cad-970e-b8400ff05b89"
      },
      "source": [
        "# load dataset\n",
        "import pandas as pd\n",
        "data_train = pd.read_csv('daily-climate-time-series-data/DailyDelhiClimateTrain.csv')\n",
        "data_train.head(10)"
      ],
      "execution_count": null,
      "outputs": [
        {
          "output_type": "execute_result",
          "data": {
            "text/html": [
              "<div>\n",
              "<style scoped>\n",
              "    .dataframe tbody tr th:only-of-type {\n",
              "        vertical-align: middle;\n",
              "    }\n",
              "\n",
              "    .dataframe tbody tr th {\n",
              "        vertical-align: top;\n",
              "    }\n",
              "\n",
              "    .dataframe thead th {\n",
              "        text-align: right;\n",
              "    }\n",
              "</style>\n",
              "<table border=\"1\" class=\"dataframe\">\n",
              "  <thead>\n",
              "    <tr style=\"text-align: right;\">\n",
              "      <th></th>\n",
              "      <th>date</th>\n",
              "      <th>meantemp</th>\n",
              "      <th>humidity</th>\n",
              "      <th>wind_speed</th>\n",
              "      <th>meanpressure</th>\n",
              "    </tr>\n",
              "  </thead>\n",
              "  <tbody>\n",
              "    <tr>\n",
              "      <th>0</th>\n",
              "      <td>2013-01-01</td>\n",
              "      <td>10.000000</td>\n",
              "      <td>84.500000</td>\n",
              "      <td>0.000000</td>\n",
              "      <td>1015.666667</td>\n",
              "    </tr>\n",
              "    <tr>\n",
              "      <th>1</th>\n",
              "      <td>2013-01-02</td>\n",
              "      <td>7.400000</td>\n",
              "      <td>92.000000</td>\n",
              "      <td>2.980000</td>\n",
              "      <td>1017.800000</td>\n",
              "    </tr>\n",
              "    <tr>\n",
              "      <th>2</th>\n",
              "      <td>2013-01-03</td>\n",
              "      <td>7.166667</td>\n",
              "      <td>87.000000</td>\n",
              "      <td>4.633333</td>\n",
              "      <td>1018.666667</td>\n",
              "    </tr>\n",
              "    <tr>\n",
              "      <th>3</th>\n",
              "      <td>2013-01-04</td>\n",
              "      <td>8.666667</td>\n",
              "      <td>71.333333</td>\n",
              "      <td>1.233333</td>\n",
              "      <td>1017.166667</td>\n",
              "    </tr>\n",
              "    <tr>\n",
              "      <th>4</th>\n",
              "      <td>2013-01-05</td>\n",
              "      <td>6.000000</td>\n",
              "      <td>86.833333</td>\n",
              "      <td>3.700000</td>\n",
              "      <td>1016.500000</td>\n",
              "    </tr>\n",
              "    <tr>\n",
              "      <th>5</th>\n",
              "      <td>2013-01-06</td>\n",
              "      <td>7.000000</td>\n",
              "      <td>82.800000</td>\n",
              "      <td>1.480000</td>\n",
              "      <td>1018.000000</td>\n",
              "    </tr>\n",
              "    <tr>\n",
              "      <th>6</th>\n",
              "      <td>2013-01-07</td>\n",
              "      <td>7.000000</td>\n",
              "      <td>78.600000</td>\n",
              "      <td>6.300000</td>\n",
              "      <td>1020.000000</td>\n",
              "    </tr>\n",
              "    <tr>\n",
              "      <th>7</th>\n",
              "      <td>2013-01-08</td>\n",
              "      <td>8.857143</td>\n",
              "      <td>63.714286</td>\n",
              "      <td>7.142857</td>\n",
              "      <td>1018.714286</td>\n",
              "    </tr>\n",
              "    <tr>\n",
              "      <th>8</th>\n",
              "      <td>2013-01-09</td>\n",
              "      <td>14.000000</td>\n",
              "      <td>51.250000</td>\n",
              "      <td>12.500000</td>\n",
              "      <td>1017.000000</td>\n",
              "    </tr>\n",
              "    <tr>\n",
              "      <th>9</th>\n",
              "      <td>2013-01-10</td>\n",
              "      <td>11.000000</td>\n",
              "      <td>62.000000</td>\n",
              "      <td>7.400000</td>\n",
              "      <td>1015.666667</td>\n",
              "    </tr>\n",
              "  </tbody>\n",
              "</table>\n",
              "</div>"
            ],
            "text/plain": [
              "         date   meantemp   humidity  wind_speed  meanpressure\n",
              "0  2013-01-01  10.000000  84.500000    0.000000   1015.666667\n",
              "1  2013-01-02   7.400000  92.000000    2.980000   1017.800000\n",
              "2  2013-01-03   7.166667  87.000000    4.633333   1018.666667\n",
              "3  2013-01-04   8.666667  71.333333    1.233333   1017.166667\n",
              "4  2013-01-05   6.000000  86.833333    3.700000   1016.500000\n",
              "5  2013-01-06   7.000000  82.800000    1.480000   1018.000000\n",
              "6  2013-01-07   7.000000  78.600000    6.300000   1020.000000\n",
              "7  2013-01-08   8.857143  63.714286    7.142857   1018.714286\n",
              "8  2013-01-09  14.000000  51.250000   12.500000   1017.000000\n",
              "9  2013-01-10  11.000000  62.000000    7.400000   1015.666667"
            ]
          },
          "metadata": {},
          "execution_count": 7
        }
      ]
    },
    {
      "cell_type": "code",
      "metadata": {
        "colab": {
          "base_uri": "https://localhost:8080/"
        },
        "id": "E5ezunPrzYq8",
        "outputId": "a8eca717-8afc-4124-f700-0cac30bb1c93"
      },
      "source": [
        "# total data\n",
        "data_train.shape"
      ],
      "execution_count": null,
      "outputs": [
        {
          "output_type": "execute_result",
          "data": {
            "text/plain": [
              "(1462, 5)"
            ]
          },
          "metadata": {},
          "execution_count": 8
        }
      ]
    },
    {
      "cell_type": "code",
      "metadata": {
        "colab": {
          "base_uri": "https://localhost:8080/"
        },
        "id": "S-eYp5AQzb0K",
        "outputId": "dcecc088-0177-4489-96fe-4196f5f4367c"
      },
      "source": [
        "# data info\n",
        "data_train.info()"
      ],
      "execution_count": null,
      "outputs": [
        {
          "output_type": "stream",
          "name": "stdout",
          "text": [
            "<class 'pandas.core.frame.DataFrame'>\n",
            "RangeIndex: 1462 entries, 0 to 1461\n",
            "Data columns (total 5 columns):\n",
            " #   Column        Non-Null Count  Dtype  \n",
            "---  ------        --------------  -----  \n",
            " 0   date          1462 non-null   object \n",
            " 1   meantemp      1462 non-null   float64\n",
            " 2   humidity      1462 non-null   float64\n",
            " 3   wind_speed    1462 non-null   float64\n",
            " 4   meanpressure  1462 non-null   float64\n",
            "dtypes: float64(4), object(1)\n",
            "memory usage: 57.2+ KB\n"
          ]
        }
      ]
    },
    {
      "cell_type": "code",
      "metadata": {
        "colab": {
          "base_uri": "https://localhost:8080/"
        },
        "id": "gstA50ABzdNO",
        "outputId": "95a5a4c8-7196-49fe-bcdc-8ae2620e54b2"
      },
      "source": [
        "# null check\n",
        "data_train.isnull().sum()"
      ],
      "execution_count": null,
      "outputs": [
        {
          "output_type": "execute_result",
          "data": {
            "text/plain": [
              "date            0\n",
              "meantemp        0\n",
              "humidity        0\n",
              "wind_speed      0\n",
              "meanpressure    0\n",
              "dtype: int64"
            ]
          },
          "metadata": {},
          "execution_count": 10
        }
      ]
    },
    {
      "cell_type": "code",
      "metadata": {
        "colab": {
          "base_uri": "https://localhost:8080/",
          "height": 358
        },
        "id": "uVEvpqHpze7v",
        "outputId": "68fc794d-1085-4e4e-ee89-b991cac6fa30"
      },
      "source": [
        "dates = data_train['date'].values\n",
        "temp  = data_train['meantemp'].values\n",
        " \n",
        " \n",
        "plt.figure(figsize=(15,5))\n",
        "plt.plot(dates, temp)\n",
        "plt.title('Temperature average',\n",
        "          fontsize=20)"
      ],
      "execution_count": null,
      "outputs": [
        {
          "output_type": "execute_result",
          "data": {
            "text/plain": [
              "Text(0.5, 1.0, 'Temperature average')"
            ]
          },
          "metadata": {},
          "execution_count": 11
        },
        {
          "output_type": "display_data",
          "data": {
            "image/png": "[encoded data removed]",
            "text/plain": [
              "<Figure size 1080x360 with 1 Axes>"
            ]
          },
          "metadata": {
            "needs_background": "light"
          }
        }
      ]
    },
    {
      "cell_type": "code",
      "metadata": {
        "id": "EZ1jFtW_O_p7"
      },
      "source": [
        "# get data values\n",
        "date = data_train['date'].values\n",
        "temp = data_train['meantemp'].values"
      ],
      "execution_count": null,
      "outputs": []
    },
    {
      "cell_type": "code",
      "metadata": {
        "id": "8NmpRW7fzjtK"
      },
      "source": [
        "def windowed_dataset(series, window_size, batch_size, shuffle_buffer):\n",
        "    series = tf.expand_dims(series, axis=-1)\n",
        "    ds = tf.data.Dataset.from_tensor_slices(series)\n",
        "    ds = ds.window(window_size + 1, shift=1, drop_remainder=True)\n",
        "    ds = ds.flat_map(lambda w: w.batch(window_size + 1))\n",
        "    ds = ds.shuffle(shuffle_buffer)\n",
        "    ds = ds.map(lambda w: (w[:-1], w[1:]))\n",
        "    return ds.batch(batch_size).prefetch(1)"
      ],
      "execution_count": null,
      "outputs": []
    },
    {
      "cell_type": "code",
      "metadata": {
        "colab": {
          "base_uri": "https://localhost:8080/"
        },
        "id": "cuVdmZZ_Pa5Z",
        "outputId": "9bf10acf-8675-42c5-b827-f252e193bf4a"
      },
      "source": [
        "from sklearn.model_selection import train_test_split\n",
        "\n",
        "x_train, x_test, y_train, y_test = train_test_split(temp, date, test_size = 0.2, random_state = 0 , shuffle=False)\n",
        "print(len(x_train), len(x_test))"
      ],
      "execution_count": null,
      "outputs": [
        {
          "output_type": "stream",
          "name": "stdout",
          "text": [
            "1169 293\n"
          ]
        }
      ]
    },
    {
      "cell_type": "code",
      "metadata": {
        "id": "8ZZQEM-vPhHT"
      },
      "source": [
        "# model\n",
        "from keras.layers import Dense, LSTM\n",
        "\n",
        "data_x_train = windowed_dataset(x_train, window_size=60, batch_size=100, shuffle_buffer=5000)\n",
        "data_x_test = windowed_dataset(x_test, window_size=60, batch_size=100, shuffle_buffer=5000)\n",
        "\n",
        "model = tf.keras.models.Sequential([\n",
        "  tf.keras.layers.Conv1D(filters=32, kernel_size=5,\n",
        "                      strides=1, padding=\"causal\",\n",
        "                      activation=\"relu\",\n",
        "                      input_shape=[None, 1]),\n",
        "  tf.keras.layers.LSTM(64, return_sequences=True),\n",
        "  tf.keras.layers.LSTM(64, return_sequences=True),\n",
        "  tf.keras.layers.Dense(30, activation=\"relu\"),\n",
        "  tf.keras.layers.Dense(10, activation=\"relu\"),\n",
        "  tf.keras.layers.Dense(1),\n",
        "  tf.keras.layers.Lambda(lambda x: x * 400)\n",
        "])\n",
        "\n",
        "lr_schedule = tf.keras.callbacks.LearningRateScheduler(\n",
        "    lambda epoch: 1e-8 * 10**(epoch / 20))\n",
        "optimizer = tf.keras.optimizers.SGD(learning_rate=1e-8, momentum=0.9)\n",
        "model.compile(loss=tf.keras.losses.Huber(),\n",
        "              optimizer=optimizer,\n",
        "              metrics=[\"mae\"])"
      ],
      "execution_count": null,
      "outputs": []
    },
    {
      "cell_type": "code",
      "metadata": {
        "colab": {
          "base_uri": "https://localhost:8080/"
        },
        "id": "ambaYDYUPl9H",
        "outputId": "878f9cde-eb40-4c95-f5b4-d0396af32e89"
      },
      "source": [
        "max = data_train['meantemp'].max()\n",
        "print('Max value : ' )\n",
        "print(max)"
      ],
      "execution_count": null,
      "outputs": [
        {
          "output_type": "stream",
          "name": "stdout",
          "text": [
            "Max value : \n",
            "38.714285714285715\n"
          ]
        }
      ]
    },
    {
      "cell_type": "code",
      "metadata": {
        "colab": {
          "base_uri": "https://localhost:8080/"
        },
        "id": "Wp2svPSTPu9P",
        "outputId": "9247aecd-a1de-4792-bcb7-60bc3376a8de"
      },
      "source": [
        "min = data_train['meantemp'].min()\n",
        "print('Min value : ' )\n",
        "print(min)"
      ],
      "execution_count": null,
      "outputs": [
        {
          "output_type": "stream",
          "name": "stdout",
          "text": [
            "Min value : \n",
            "6.0\n"
          ]
        }
      ]
    },
    {
      "cell_type": "code",
      "metadata": {
        "colab": {
          "base_uri": "https://localhost:8080/"
        },
        "id": "TXODRlHGPvZ0",
        "outputId": "44c7df82-9a6f-4c56-e044-b7db24b31582"
      },
      "source": [
        "x = (max - min) * (10 / 100)\n",
        "print(x)"
      ],
      "execution_count": null,
      "outputs": [
        {
          "output_type": "stream",
          "name": "stdout",
          "text": [
            "3.271428571428572\n"
          ]
        }
      ]
    },
    {
      "cell_type": "code",
      "metadata": {
        "id": "MPfFI34QP_ED"
      },
      "source": [
        "# callback\n",
        "class myCallback(tf.keras.callbacks.Callback):\n",
        "  def on_epoch_end(self, epoch, logs={}):\n",
        "    if(logs.get('val_mae')< x):\n",
        "      self.model.stop_training = True\n",
        "      print(\"\\nMAE of the model < 10% of data scale\")\n",
        "callbacks = myCallback()"
      ],
      "execution_count": null,
      "outputs": []
    },
    {
      "cell_type": "code",
      "metadata": {
        "colab": {
          "base_uri": "https://localhost:8080/"
        },
        "id": "YsHIu5IxQJpO",
        "outputId": "d61f0c71-7274-4649-cc7c-91254c77fb58"
      },
      "source": [
        "tf.keras.backend.set_floatx('float64')\n",
        "history = model.fit(data_x_train ,epochs=100, validation_data=data_x_test, callbacks=[callbacks])"
      ],
      "execution_count": null,
      "outputs": [
        {
          "output_type": "stream",
          "name": "stdout",
          "text": [
            "Epoch 1/100\n",
            "12/12 [==============================] - 2s 154ms/step - loss: 3.0156 - mae: 3.4734 - val_loss: 3.1476 - val_mae: 3.5991\n",
            "Epoch 2/100\n",
            "12/12 [==============================] - 2s 155ms/step - loss: 3.0120 - mae: 3.4697 - val_loss: 3.1445 - val_mae: 3.5959\n",
            "Epoch 3/100\n",
            "12/12 [==============================] - 2s 149ms/step - loss: 3.0084 - mae: 3.4661 - val_loss: 3.1348 - val_mae: 3.5860\n",
            "Epoch 4/100\n",
            "12/12 [==============================] - 2s 150ms/step - loss: 3.0049 - mae: 3.4626 - val_loss: 3.1285 - val_mae: 3.5796\n",
            "Epoch 5/100\n",
            "12/12 [==============================] - 2s 150ms/step - loss: 3.0013 - mae: 3.4589 - val_loss: 3.1299 - val_mae: 3.5809\n",
            "Epoch 6/100\n",
            "12/12 [==============================] - 2s 150ms/step - loss: 2.9975 - mae: 3.4550 - val_loss: 3.1213 - val_mae: 3.5723\n",
            "Epoch 7/100\n",
            "12/12 [==============================] - 2s 152ms/step - loss: 2.9938 - mae: 3.4514 - val_loss: 3.1130 - val_mae: 3.5639\n",
            "Epoch 8/100\n",
            "12/12 [==============================] - 2s 151ms/step - loss: 2.9903 - mae: 3.4479 - val_loss: 3.1130 - val_mae: 3.5638\n",
            "Epoch 9/100\n",
            "12/12 [==============================] - 2s 149ms/step - loss: 2.9869 - mae: 3.4442 - val_loss: 3.1154 - val_mae: 3.5663\n",
            "Epoch 10/100\n",
            "12/12 [==============================] - 2s 150ms/step - loss: 2.9835 - mae: 3.4408 - val_loss: 3.1030 - val_mae: 3.5536\n",
            "Epoch 11/100\n",
            "12/12 [==============================] - 2s 157ms/step - loss: 2.9799 - mae: 3.4372 - val_loss: 3.0970 - val_mae: 3.5475\n",
            "Epoch 12/100\n",
            "12/12 [==============================] - 2s 151ms/step - loss: 2.9764 - mae: 3.4336 - val_loss: 3.1002 - val_mae: 3.5508\n",
            "Epoch 13/100\n",
            "12/12 [==============================] - 2s 150ms/step - loss: 2.9729 - mae: 3.4300 - val_loss: 3.0906 - val_mae: 3.5410\n",
            "Epoch 14/100\n",
            "12/12 [==============================] - 2s 150ms/step - loss: 2.9695 - mae: 3.4267 - val_loss: 3.0825 - val_mae: 3.5328\n",
            "Epoch 15/100\n",
            "12/12 [==============================] - 2s 154ms/step - loss: 2.9661 - mae: 3.4232 - val_loss: 3.0820 - val_mae: 3.5323\n",
            "Epoch 16/100\n",
            "12/12 [==============================] - 2s 154ms/step - loss: 2.9627 - mae: 3.4197 - val_loss: 3.0844 - val_mae: 3.5347\n",
            "Epoch 17/100\n",
            "12/12 [==============================] - 2s 151ms/step - loss: 2.9594 - mae: 3.4163 - val_loss: 3.0794 - val_mae: 3.5297\n",
            "Epoch 18/100\n",
            "12/12 [==============================] - 2s 151ms/step - loss: 2.9560 - mae: 3.4130 - val_loss: 3.0681 - val_mae: 3.5182\n",
            "Epoch 19/100\n",
            "12/12 [==============================] - 2s 152ms/step - loss: 2.9526 - mae: 3.4096 - val_loss: 3.0631 - val_mae: 3.5132\n",
            "Epoch 20/100\n",
            "12/12 [==============================] - 2s 153ms/step - loss: 2.9492 - mae: 3.4060 - val_loss: 3.0653 - val_mae: 3.5153\n",
            "Epoch 21/100\n",
            "12/12 [==============================] - 2s 152ms/step - loss: 2.9458 - mae: 3.4025 - val_loss: 3.0589 - val_mae: 3.5088\n",
            "Epoch 22/100\n",
            "12/12 [==============================] - 2s 151ms/step - loss: 2.9424 - mae: 3.3991 - val_loss: 3.0517 - val_mae: 3.5015\n",
            "Epoch 23/100\n",
            "12/12 [==============================] - 2s 150ms/step - loss: 2.9395 - mae: 3.3964 - val_loss: 3.0403 - val_mae: 3.4903\n",
            "Epoch 24/100\n",
            "12/12 [==============================] - 2s 150ms/step - loss: 2.9358 - mae: 3.3926 - val_loss: 3.0429 - val_mae: 3.4927\n",
            "Epoch 25/100\n",
            "12/12 [==============================] - 2s 151ms/step - loss: 2.9323 - mae: 3.3890 - val_loss: 3.0383 - val_mae: 3.4880\n",
            "Epoch 26/100\n",
            "12/12 [==============================] - 2s 149ms/step - loss: 2.9290 - mae: 3.3855 - val_loss: 3.0403 - val_mae: 3.4898\n",
            "Epoch 27/100\n",
            "12/12 [==============================] - 2s 152ms/step - loss: 2.9256 - mae: 3.3821 - val_loss: 3.0304 - val_mae: 3.4800\n",
            "Epoch 28/100\n",
            "12/12 [==============================] - 2s 152ms/step - loss: 2.9223 - mae: 3.3788 - val_loss: 3.0267 - val_mae: 3.4762\n",
            "Epoch 29/100\n",
            "12/12 [==============================] - 2s 153ms/step - loss: 2.9189 - mae: 3.3752 - val_loss: 3.0259 - val_mae: 3.4752\n",
            "Epoch 30/100\n",
            "12/12 [==============================] - 2s 152ms/step - loss: 2.9156 - mae: 3.3719 - val_loss: 3.0192 - val_mae: 3.4685\n",
            "Epoch 31/100\n",
            "12/12 [==============================] - 2s 149ms/step - loss: 2.9123 - mae: 3.3685 - val_loss: 3.0147 - val_mae: 3.4638\n",
            "Epoch 32/100\n",
            "12/12 [==============================] - 2s 151ms/step - loss: 2.9092 - mae: 3.3656 - val_loss: 3.0012 - val_mae: 3.4505\n",
            "Epoch 33/100\n",
            "12/12 [==============================] - 2s 152ms/step - loss: 2.9057 - mae: 3.3620 - val_loss: 3.0007 - val_mae: 3.4498\n",
            "Epoch 34/100\n",
            "12/12 [==============================] - 2s 149ms/step - loss: 2.9022 - mae: 3.3584 - val_loss: 2.9997 - val_mae: 3.4486\n",
            "Epoch 35/100\n",
            "12/12 [==============================] - 2s 150ms/step - loss: 2.8990 - mae: 3.3551 - val_loss: 2.9964 - val_mae: 3.4452\n",
            "Epoch 36/100\n",
            "12/12 [==============================] - 2s 153ms/step - loss: 2.8957 - mae: 3.3517 - val_loss: 2.9900 - val_mae: 3.4388\n",
            "Epoch 37/100\n",
            "12/12 [==============================] - 2s 156ms/step - loss: 2.8925 - mae: 3.3486 - val_loss: 2.9799 - val_mae: 3.4286\n",
            "Epoch 38/100\n",
            "12/12 [==============================] - 2s 155ms/step - loss: 2.8893 - mae: 3.3454 - val_loss: 2.9743 - val_mae: 3.4230\n",
            "Epoch 39/100\n",
            "12/12 [==============================] - 2s 152ms/step - loss: 2.8862 - mae: 3.3421 - val_loss: 2.9820 - val_mae: 3.4305\n",
            "Epoch 40/100\n",
            "12/12 [==============================] - 2s 154ms/step - loss: 2.8831 - mae: 3.3388 - val_loss: 2.9821 - val_mae: 3.4305\n",
            "Epoch 41/100\n",
            "12/12 [==============================] - 2s 154ms/step - loss: 2.8797 - mae: 3.3354 - val_loss: 2.9694 - val_mae: 3.4177\n",
            "Epoch 42/100\n",
            "12/12 [==============================] - 2s 154ms/step - loss: 2.8762 - mae: 3.3319 - val_loss: 2.9665 - val_mae: 3.4147\n",
            "Epoch 43/100\n",
            "12/12 [==============================] - 2s 154ms/step - loss: 2.8732 - mae: 3.3289 - val_loss: 2.9549 - val_mae: 3.4032\n",
            "Epoch 44/100\n",
            "12/12 [==============================] - 2s 152ms/step - loss: 2.8702 - mae: 3.3259 - val_loss: 2.9515 - val_mae: 3.3998\n",
            "Epoch 45/100\n",
            "12/12 [==============================] - 2s 153ms/step - loss: 2.8669 - mae: 3.3225 - val_loss: 2.9515 - val_mae: 3.3995\n",
            "Epoch 46/100\n",
            "12/12 [==============================] - 2s 152ms/step - loss: 2.8637 - mae: 3.3192 - val_loss: 2.9475 - val_mae: 3.3954\n",
            "Epoch 47/100\n",
            "12/12 [==============================] - 2s 152ms/step - loss: 2.8604 - mae: 3.3158 - val_loss: 2.9480 - val_mae: 3.3958\n",
            "Epoch 48/100\n",
            "12/12 [==============================] - 2s 153ms/step - loss: 2.8573 - mae: 3.3126 - val_loss: 2.9419 - val_mae: 3.3896\n",
            "Epoch 49/100\n",
            "12/12 [==============================] - 2s 153ms/step - loss: 2.8543 - mae: 3.3095 - val_loss: 2.9398 - val_mae: 3.3873\n",
            "Epoch 50/100\n",
            "12/12 [==============================] - 2s 152ms/step - loss: 2.8513 - mae: 3.3065 - val_loss: 2.9420 - val_mae: 3.3894\n",
            "Epoch 51/100\n",
            "12/12 [==============================] - 2s 155ms/step - loss: 2.8488 - mae: 3.3039 - val_loss: 2.9410 - val_mae: 3.3884\n",
            "Epoch 52/100\n",
            "12/12 [==============================] - 2s 155ms/step - loss: 2.8454 - mae: 3.3005 - val_loss: 2.9265 - val_mae: 3.3737\n",
            "Epoch 53/100\n",
            "12/12 [==============================] - 2s 153ms/step - loss: 2.8428 - mae: 3.2978 - val_loss: 2.9165 - val_mae: 3.3639\n",
            "Epoch 54/100\n",
            "12/12 [==============================] - 2s 155ms/step - loss: 2.8393 - mae: 3.2942 - val_loss: 2.9190 - val_mae: 3.3661\n",
            "Epoch 55/100\n",
            "12/12 [==============================] - 2s 155ms/step - loss: 2.8364 - mae: 3.2912 - val_loss: 2.9192 - val_mae: 3.3662\n",
            "Epoch 56/100\n",
            "12/12 [==============================] - 2s 150ms/step - loss: 2.8333 - mae: 3.2881 - val_loss: 2.9098 - val_mae: 3.3567\n",
            "Epoch 57/100\n",
            "12/12 [==============================] - 2s 156ms/step - loss: 2.8305 - mae: 3.2852 - val_loss: 2.9036 - val_mae: 3.3506\n",
            "Epoch 58/100\n",
            "12/12 [==============================] - 2s 154ms/step - loss: 2.8275 - mae: 3.2821 - val_loss: 2.9026 - val_mae: 3.3494\n",
            "Epoch 59/100\n",
            "12/12 [==============================] - 2s 175ms/step - loss: 2.8244 - mae: 3.2789 - val_loss: 2.9046 - val_mae: 3.3511\n",
            "Epoch 60/100\n",
            "12/12 [==============================] - 2s 176ms/step - loss: 2.8218 - mae: 3.2763 - val_loss: 2.9046 - val_mae: 3.3510\n",
            "Epoch 61/100\n",
            "12/12 [==============================] - 2s 176ms/step - loss: 2.8189 - mae: 3.2735 - val_loss: 2.8978 - val_mae: 3.3441\n",
            "Epoch 62/100\n",
            "12/12 [==============================] - 3s 214ms/step - loss: 2.8160 - mae: 3.2704 - val_loss: 2.8888 - val_mae: 3.3351\n",
            "Epoch 63/100\n",
            "12/12 [==============================] - 2s 157ms/step - loss: 2.8132 - mae: 3.2676 - val_loss: 2.8937 - val_mae: 3.3397\n",
            "Epoch 64/100\n",
            "12/12 [==============================] - 2s 154ms/step - loss: 2.8105 - mae: 3.2648 - val_loss: 2.8806 - val_mae: 3.3267\n",
            "Epoch 65/100\n",
            "12/12 [==============================] - 2s 155ms/step - loss: 2.8074 - mae: 3.2617 - val_loss: 2.8804 - val_mae: 3.3263\n",
            "Epoch 66/100\n",
            "12/12 [==============================] - 2s 154ms/step - loss: 2.8049 - mae: 3.2592 - val_loss: 2.8824 - val_mae: 3.3281\n",
            "Epoch 67/100\n",
            "12/12 [==============================] - 2s 152ms/step - loss: 2.8021 - mae: 3.2563 - val_loss: 2.8713 - val_mae: 3.3171\n",
            "Epoch 68/100\n",
            "12/12 [==============================] - 2s 155ms/step - loss: 2.7992 - mae: 3.2532 - val_loss: 2.8684 - val_mae: 3.3141\n",
            "Epoch 69/100\n",
            "12/12 [==============================] - 2s 156ms/step - loss: 2.7966 - mae: 3.2506 - val_loss: 2.8635 - val_mae: 3.3092\n",
            "Epoch 70/100\n",
            "12/12 [==============================] - 2s 154ms/step - loss: 2.7938 - mae: 3.2478 - val_loss: 2.8650 - val_mae: 3.3105\n",
            "Epoch 71/100\n",
            "12/12 [==============================] - 2s 159ms/step - loss: 2.7912 - mae: 3.2452 - val_loss: 2.8690 - val_mae: 3.3143\n",
            "Epoch 72/100\n",
            "12/12 [==============================] - 2s 157ms/step - loss: 2.7886 - mae: 3.2427 - val_loss: 2.8603 - val_mae: 3.3055\n",
            "Epoch 73/100\n",
            "12/12 [==============================] - 2s 155ms/step - loss: 2.7859 - mae: 3.2397 - val_loss: 2.8479 - val_mae: 3.2932\n",
            "Epoch 74/100\n",
            "12/12 [==============================] - 2s 156ms/step - loss: 2.7832 - mae: 3.2370 - val_loss: 2.8492 - val_mae: 3.2943\n",
            "Epoch 75/100\n",
            "12/12 [==============================] - 2s 154ms/step - loss: 2.7807 - mae: 3.2344 - val_loss: 2.8437 - val_mae: 3.2889\n",
            "Epoch 76/100\n",
            "12/12 [==============================] - 2s 151ms/step - loss: 2.7780 - mae: 3.2317 - val_loss: 2.8427 - val_mae: 3.2878\n",
            "Epoch 77/100\n",
            "12/12 [==============================] - 2s 152ms/step - loss: 2.7756 - mae: 3.2292 - val_loss: 2.8368 - val_mae: 3.2818\n",
            "Epoch 78/100\n",
            "12/12 [==============================] - 2s 154ms/step - loss: 2.7728 - mae: 3.2264 - val_loss: 2.8417 - val_mae: 3.2864\n",
            "Epoch 79/100\n",
            "12/12 [==============================] - 2s 155ms/step - loss: 2.7703 - mae: 3.2240 - val_loss: 2.8439 - val_mae: 3.2884\n",
            "Epoch 80/100\n",
            "12/12 [==============================] - 2s 156ms/step - loss: 2.7679 - mae: 3.2217 - val_loss: 2.8450 - val_mae: 3.2894\n",
            "Epoch 81/100\n",
            "12/12 [==============================] - 2s 151ms/step - loss: 2.7655 - mae: 3.2193 - val_loss: 2.8406 - val_mae: 3.2849\n",
            "Epoch 82/100\n",
            "12/12 [==============================] - 2s 151ms/step - loss: 2.7628 - mae: 3.2165 - val_loss: 2.8308 - val_mae: 3.2750\n",
            "Epoch 83/100\n",
            "12/12 [==============================] - 2s 152ms/step - loss: 2.7603 - mae: 3.2138 - val_loss: 2.8265 - val_mae: 3.2705\n",
            "\n",
            "MAE of the model < 10% of data scale\n"
          ]
        }
      ]
    },
    {
      "cell_type": "code",
      "metadata": {
        "colab": {
          "base_uri": "https://localhost:8080/",
          "height": 295
        },
        "id": "GM3VYTUx0kwh",
        "outputId": "d47d3e88-63c7-40e8-cc54-af22439ff56f"
      },
      "source": [
        "# plot of mae\n",
        "plt.plot(history.history['mae'])\n",
        "plt.plot(history.history['val_mae'])\n",
        "plt.title('MAE')\n",
        "plt.ylabel('mae')\n",
        "plt.xlabel('epoch')\n",
        "plt.legend(['train', 'test'], loc='upper left')\n",
        "plt.show()"
      ],
      "execution_count": null,
      "outputs": [
        {
          "output_type": "display_data",
          "data": {
            "image/png": "[encoded data removed]",
            "text/plain": [
              "<Figure size 432x288 with 1 Axes>"
            ]
          },
          "metadata": {
            "needs_background": "light"
          }
        }
      ]
    },
    {
      "cell_type": "code",
      "metadata": {
        "colab": {
          "base_uri": "https://localhost:8080/",
          "height": 295
        },
        "id": "cxyHpU555G04",
        "outputId": "a204590d-f4fc-4001-a3a3-19b2355cdd7a"
      },
      "source": [
        "# plot of loss\n",
        "plt.plot(history.history['loss'])\n",
        "plt.plot(history.history['val_loss'])\n",
        "plt.title('Model Loss')\n",
        "plt.ylabel('loss')\n",
        "plt.xlabel('epoch')\n",
        "plt.legend(['train', 'test'], loc='upper left')\n",
        "plt.show()"
      ],
      "execution_count": null,
      "outputs": [
        {
          "output_type": "display_data",
          "data": {
            "image/png": "[encoded data removed]",
            "text/plain": [
              "<Figure size 432x288 with 1 Axes>"
            ]
          },
          "metadata": {
            "needs_background": "light"
          }
        }
      ]
    }
  ]
}