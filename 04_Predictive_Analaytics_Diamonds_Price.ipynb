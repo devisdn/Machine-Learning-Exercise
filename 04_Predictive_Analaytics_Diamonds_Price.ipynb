{
  "nbformat": 4,
  "nbformat_minor": 0,
  "metadata": {
    "colab": {
      "name": "04_Predictive_Analaytics_Diamonds_Price.ipynb",
      "provenance": []
    },
    "kernelspec": {
      "name": "python3",
      "display_name": "Python 3"
    },
    "language_info": {
      "name": "python"
    }
  },
  "cells": [
    {
      "cell_type": "markdown",
      "metadata": {
        "id": "bGV1IIeU3IBK"
      },
      "source": [
        "# **Data Understanding**\n",
        "\n",
        "Data yang digunakan pada model ini data brilliant diamond dari kaggle.\n",
        "\n",
        "Url sumber data : https://www.kaggle.com/miguelcorraljr/brilliant-diamonds/download\n",
        "*   Dataset           : 119307 data\n",
        "*   Fitur categorical : shape, cut, color, clarity, report, type dan date_fetched\n",
        "*   Fitur numerical   : carat\n",
        "*   Fitur targer      : price\n",
        "\n"
      ]
    },
    {
      "cell_type": "markdown",
      "metadata": {
        "id": "W-CFfG0E3kB6"
      },
      "source": [
        "## **Data Loading**\n"
      ]
    },
    {
      "cell_type": "markdown",
      "metadata": {
        "id": "oyPs4lFl7J30"
      },
      "source": [
        "### Import Library\n",
        "Pada bagian ini saya mengimport library yang saya butuhkan untuk membaca file data"
      ]
    },
    {
      "cell_type": "code",
      "metadata": {
        "id": "oMhvu_cfy-EA"
      },
      "source": [
        "from google.colab import files\n",
        "import numpy as np\n",
        "import matplotlib.pyplot as plt\n",
        "import pandas as pd\n",
        "%matplotlib inline\n",
        "import seaborn as sns\n",
        "import shutil"
      ],
      "execution_count": null,
      "outputs": []
    },
    {
      "cell_type": "markdown",
      "metadata": {
        "id": "jC_x4aPf7okj"
      },
      "source": [
        "### Mempersiapkan dataset\n",
        "Pada bagian ini saya mendownload dataset langsung dari kaggle kemudian menampilkannya, dataset saya gunakan yaitu diamond_dataset.csv"
      ]
    },
    {
      "cell_type": "code",
      "metadata": {
        "id": "GG7gTrrMzAmJ"
      },
      "source": [
        "!pip install -q kaggle"
      ],
      "execution_count": null,
      "outputs": []
    },
    {
      "cell_type": "code",
      "metadata": {
        "colab": {
          "resources": {
            "http://localhost:8080/nbextensions/google.colab/files.js": {
              "data": "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",
              "ok": true,
              "headers": [
                [
                  "content-type",
                  "application/javascript"
                ]
              ],
              "status": 200,
              "status_text": ""
            }
          },
          "base_uri": "https://localhost:8080/",
          "height": 91
        },
        "id": "obHAQvkJzCTp",
        "outputId": "800350da-6666-4b75-cb83-62953fe76ba0"
      },
      "source": [
        "files.upload()"
      ],
      "execution_count": null,
      "outputs": [
        {
          "output_type": "display_data",
          "data": {
            "text/html": [
              "\n",
              "     <input type=\"file\" id=\"files-c9f7bcad-5316-4b6d-9324-c288240b9d98\" name=\"files[]\" multiple disabled\n",
              "        style=\"border:none\" />\n",
              "     <output id=\"result-c9f7bcad-5316-4b6d-9324-c288240b9d98\">\n",
              "      Upload widget is only available when the cell has been executed in the\n",
              "      current browser session. Please rerun this cell to enable.\n",
              "      </output>\n",
              "      <script src=\"/nbextensions/google.colab/files.js\"></script> "
            ],
            "text/plain": [
              "<IPython.core.display.HTML object>"
            ]
          },
          "metadata": {}
        },
        {
          "output_type": "stream",
          "name": "stdout",
          "text": [
            "Saving kaggle.json to kaggle.json\n"
          ]
        },
        {
          "output_type": "execute_result",
          "data": {
            "text/plain": [
              "{'kaggle.json': b'{\"username\":\"devisdestiannugraha\",\"key\":\"bee36c4a86c43a4117f92345da40f1e2\"}'}"
            ]
          },
          "metadata": {},
          "execution_count": 9
        }
      ]
    },
    {
      "cell_type": "code",
      "metadata": {
        "colab": {
          "base_uri": "https://localhost:8080/"
        },
        "id": "GrGcdzvMzF1v",
        "outputId": "5417f187-5988-4bcb-e539-2fd6aac14403"
      },
      "source": [
        "!mkdir -p ~/.kaggle\n",
        "!cp kaggle.json ~/.kaggle/\n",
        "!chmod 600 ~/.kaggle/kaggle.json\n",
        "!ls  ~/.kaggle"
      ],
      "execution_count": null,
      "outputs": [
        {
          "output_type": "stream",
          "name": "stdout",
          "text": [
            "kaggle.json\n"
          ]
        }
      ]
    },
    {
      "cell_type": "code",
      "metadata": {
        "colab": {
          "base_uri": "https://localhost:8080/"
        },
        "id": "yrdl9mBfzHdV",
        "outputId": "d6c15bf4-781c-4f39-d7de-959a0855a3f4"
      },
      "source": [
        "!kaggle datasets download -d miguelcorraljr/brilliant-diamonds"
      ],
      "execution_count": null,
      "outputs": [
        {
          "output_type": "stream",
          "name": "stdout",
          "text": [
            "Downloading brilliant-diamonds.zip to /content\n",
            "\r  0% 0.00/1.45M [00:00<?, ?B/s]\n",
            "\r100% 1.45M/1.45M [00:00<00:00, 47.4MB/s]\n"
          ]
        }
      ]
    },
    {
      "cell_type": "code",
      "metadata": {
        "id": "qs8Q46m_zJfg"
      },
      "source": [
        "!unzip -qq brilliant-diamonds.zip"
      ],
      "execution_count": null,
      "outputs": []
    },
    {
      "cell_type": "code",
      "metadata": {
        "colab": {
          "base_uri": "https://localhost:8080/",
          "height": 605
        },
        "id": "y7LRs2VpzK9B",
        "outputId": "9a75cc82-69d0-4748-c247-b80ecb090920"
      },
      "source": [
        "df = pd.read_csv('/content/diamonds_dataset.csv')\n",
        "df"
      ],
      "execution_count": null,
      "outputs": [
        {
          "output_type": "execute_result",
          "data": {
            "text/html": [
              "<div>\n",
              "<style scoped>\n",
              "    .dataframe tbody tr th:only-of-type {\n",
              "        vertical-align: middle;\n",
              "    }\n",
              "\n",
              "    .dataframe tbody tr th {\n",
              "        vertical-align: top;\n",
              "    }\n",
              "\n",
              "    .dataframe thead th {\n",
              "        text-align: right;\n",
              "    }\n",
              "</style>\n",
              "<table border=\"1\" class=\"dataframe\">\n",
              "  <thead>\n",
              "    <tr style=\"text-align: right;\">\n",
              "      <th></th>\n",
              "      <th>id</th>\n",
              "      <th>url</th>\n",
              "      <th>shape</th>\n",
              "      <th>price</th>\n",
              "      <th>carat</th>\n",
              "      <th>cut</th>\n",
              "      <th>color</th>\n",
              "      <th>clarity</th>\n",
              "      <th>report</th>\n",
              "      <th>type</th>\n",
              "      <th>date_fetched</th>\n",
              "    </tr>\n",
              "  </thead>\n",
              "  <tbody>\n",
              "    <tr>\n",
              "      <th>0</th>\n",
              "      <td>10086429</td>\n",
              "      <td>https://www.brilliantearth.com//loose-diamonds...</td>\n",
              "      <td>Round</td>\n",
              "      <td>400</td>\n",
              "      <td>0.30</td>\n",
              "      <td>Very Good</td>\n",
              "      <td>J</td>\n",
              "      <td>SI2</td>\n",
              "      <td>GIA</td>\n",
              "      <td>natural</td>\n",
              "      <td>2020-11-29 12-26 PM</td>\n",
              "    </tr>\n",
              "    <tr>\n",
              "      <th>1</th>\n",
              "      <td>10016334</td>\n",
              "      <td>https://www.brilliantearth.com//loose-diamonds...</td>\n",
              "      <td>Emerald</td>\n",
              "      <td>400</td>\n",
              "      <td>0.31</td>\n",
              "      <td>Ideal</td>\n",
              "      <td>I</td>\n",
              "      <td>SI1</td>\n",
              "      <td>GIA</td>\n",
              "      <td>natural</td>\n",
              "      <td>2020-11-29 12-26 PM</td>\n",
              "    </tr>\n",
              "    <tr>\n",
              "      <th>2</th>\n",
              "      <td>9947216</td>\n",
              "      <td>https://www.brilliantearth.com//loose-diamonds...</td>\n",
              "      <td>Emerald</td>\n",
              "      <td>400</td>\n",
              "      <td>0.30</td>\n",
              "      <td>Ideal</td>\n",
              "      <td>I</td>\n",
              "      <td>VS2</td>\n",
              "      <td>GIA</td>\n",
              "      <td>natural</td>\n",
              "      <td>2020-11-29 12-26 PM</td>\n",
              "    </tr>\n",
              "    <tr>\n",
              "      <th>3</th>\n",
              "      <td>10083437</td>\n",
              "      <td>https://www.brilliantearth.com//loose-diamonds...</td>\n",
              "      <td>Round</td>\n",
              "      <td>400</td>\n",
              "      <td>0.30</td>\n",
              "      <td>Ideal</td>\n",
              "      <td>I</td>\n",
              "      <td>SI2</td>\n",
              "      <td>GIA</td>\n",
              "      <td>natural</td>\n",
              "      <td>2020-11-29 12-26 PM</td>\n",
              "    </tr>\n",
              "    <tr>\n",
              "      <th>4</th>\n",
              "      <td>9946136</td>\n",
              "      <td>https://www.brilliantearth.com//loose-diamonds...</td>\n",
              "      <td>Emerald</td>\n",
              "      <td>400</td>\n",
              "      <td>0.30</td>\n",
              "      <td>Ideal</td>\n",
              "      <td>I</td>\n",
              "      <td>SI1</td>\n",
              "      <td>GIA</td>\n",
              "      <td>natural</td>\n",
              "      <td>2020-11-29 12-26 PM</td>\n",
              "    </tr>\n",
              "    <tr>\n",
              "      <th>...</th>\n",
              "      <td>...</td>\n",
              "      <td>...</td>\n",
              "      <td>...</td>\n",
              "      <td>...</td>\n",
              "      <td>...</td>\n",
              "      <td>...</td>\n",
              "      <td>...</td>\n",
              "      <td>...</td>\n",
              "      <td>...</td>\n",
              "      <td>...</td>\n",
              "      <td>...</td>\n",
              "    </tr>\n",
              "    <tr>\n",
              "      <th>119302</th>\n",
              "      <td>10081678</td>\n",
              "      <td>https://www.brilliantearth.com//lab-diamonds-s...</td>\n",
              "      <td>Round</td>\n",
              "      <td>99040</td>\n",
              "      <td>5.71</td>\n",
              "      <td>Super Ideal</td>\n",
              "      <td>D</td>\n",
              "      <td>VVS2</td>\n",
              "      <td>GCAL</td>\n",
              "      <td>lab</td>\n",
              "      <td>2020-11-29 12-26 PM</td>\n",
              "    </tr>\n",
              "    <tr>\n",
              "      <th>119303</th>\n",
              "      <td>9521564</td>\n",
              "      <td>https://www.brilliantearth.com//lab-diamonds-s...</td>\n",
              "      <td>Cushion</td>\n",
              "      <td>107330</td>\n",
              "      <td>15.32</td>\n",
              "      <td>Very Good</td>\n",
              "      <td>G</td>\n",
              "      <td>SI2</td>\n",
              "      <td>IGI</td>\n",
              "      <td>lab</td>\n",
              "      <td>2020-11-29 12-26 PM</td>\n",
              "    </tr>\n",
              "    <tr>\n",
              "      <th>119304</th>\n",
              "      <td>9896730</td>\n",
              "      <td>https://www.brilliantearth.com//lab-diamonds-s...</td>\n",
              "      <td>Cushion</td>\n",
              "      <td>110110</td>\n",
              "      <td>10.05</td>\n",
              "      <td>Ideal</td>\n",
              "      <td>D</td>\n",
              "      <td>SI2</td>\n",
              "      <td>IGI</td>\n",
              "      <td>lab</td>\n",
              "      <td>2020-11-29 12-26 PM</td>\n",
              "    </tr>\n",
              "    <tr>\n",
              "      <th>119305</th>\n",
              "      <td>9756570</td>\n",
              "      <td>https://www.brilliantearth.com//lab-diamonds-s...</td>\n",
              "      <td>Oval</td>\n",
              "      <td>126030</td>\n",
              "      <td>10.33</td>\n",
              "      <td>Fair</td>\n",
              "      <td>D</td>\n",
              "      <td>VS2</td>\n",
              "      <td>IGI</td>\n",
              "      <td>lab</td>\n",
              "      <td>2020-11-29 12-26 PM</td>\n",
              "    </tr>\n",
              "    <tr>\n",
              "      <th>119306</th>\n",
              "      <td>9293400</td>\n",
              "      <td>https://www.brilliantearth.com//lab-diamonds-s...</td>\n",
              "      <td>Cushion</td>\n",
              "      <td>141710</td>\n",
              "      <td>10.25</td>\n",
              "      <td>Good</td>\n",
              "      <td>E</td>\n",
              "      <td>VS1</td>\n",
              "      <td>IGI</td>\n",
              "      <td>lab</td>\n",
              "      <td>2020-11-29 12-26 PM</td>\n",
              "    </tr>\n",
              "  </tbody>\n",
              "</table>\n",
              "<p>119307 rows × 11 columns</p>\n",
              "</div>"
            ],
            "text/plain": [
              "              id  ...         date_fetched\n",
              "0       10086429  ...  2020-11-29 12-26 PM\n",
              "1       10016334  ...  2020-11-29 12-26 PM\n",
              "2        9947216  ...  2020-11-29 12-26 PM\n",
              "3       10083437  ...  2020-11-29 12-26 PM\n",
              "4        9946136  ...  2020-11-29 12-26 PM\n",
              "...          ...  ...                  ...\n",
              "119302  10081678  ...  2020-11-29 12-26 PM\n",
              "119303   9521564  ...  2020-11-29 12-26 PM\n",
              "119304   9896730  ...  2020-11-29 12-26 PM\n",
              "119305   9756570  ...  2020-11-29 12-26 PM\n",
              "119306   9293400  ...  2020-11-29 12-26 PM\n",
              "\n",
              "[119307 rows x 11 columns]"
            ]
          },
          "metadata": {},
          "execution_count": 13
        }
      ]
    },
    {
      "cell_type": "code",
      "metadata": {
        "colab": {
          "base_uri": "https://localhost:8080/",
          "height": 605
        },
        "id": "XKZNFkQLzNPi",
        "outputId": "46cf1a6c-901e-49fd-bc80-082f75f6822c"
      },
      "source": [
        "df1 = df.drop('id',axis=1)\n",
        "df1"
      ],
      "execution_count": null,
      "outputs": [
        {
          "output_type": "execute_result",
          "data": {
            "text/html": [
              "<div>\n",
              "<style scoped>\n",
              "    .dataframe tbody tr th:only-of-type {\n",
              "        vertical-align: middle;\n",
              "    }\n",
              "\n",
              "    .dataframe tbody tr th {\n",
              "        vertical-align: top;\n",
              "    }\n",
              "\n",
              "    .dataframe thead th {\n",
              "        text-align: right;\n",
              "    }\n",
              "</style>\n",
              "<table border=\"1\" class=\"dataframe\">\n",
              "  <thead>\n",
              "    <tr style=\"text-align: right;\">\n",
              "      <th></th>\n",
              "      <th>url</th>\n",
              "      <th>shape</th>\n",
              "      <th>price</th>\n",
              "      <th>carat</th>\n",
              "      <th>cut</th>\n",
              "      <th>color</th>\n",
              "      <th>clarity</th>\n",
              "      <th>report</th>\n",
              "      <th>type</th>\n",
              "      <th>date_fetched</th>\n",
              "    </tr>\n",
              "  </thead>\n",
              "  <tbody>\n",
              "    <tr>\n",
              "      <th>0</th>\n",
              "      <td>https://www.brilliantearth.com//loose-diamonds...</td>\n",
              "      <td>Round</td>\n",
              "      <td>400</td>\n",
              "      <td>0.30</td>\n",
              "      <td>Very Good</td>\n",
              "      <td>J</td>\n",
              "      <td>SI2</td>\n",
              "      <td>GIA</td>\n",
              "      <td>natural</td>\n",
              "      <td>2020-11-29 12-26 PM</td>\n",
              "    </tr>\n",
              "    <tr>\n",
              "      <th>1</th>\n",
              "      <td>https://www.brilliantearth.com//loose-diamonds...</td>\n",
              "      <td>Emerald</td>\n",
              "      <td>400</td>\n",
              "      <td>0.31</td>\n",
              "      <td>Ideal</td>\n",
              "      <td>I</td>\n",
              "      <td>SI1</td>\n",
              "      <td>GIA</td>\n",
              "      <td>natural</td>\n",
              "      <td>2020-11-29 12-26 PM</td>\n",
              "    </tr>\n",
              "    <tr>\n",
              "      <th>2</th>\n",
              "      <td>https://www.brilliantearth.com//loose-diamonds...</td>\n",
              "      <td>Emerald</td>\n",
              "      <td>400</td>\n",
              "      <td>0.30</td>\n",
              "      <td>Ideal</td>\n",
              "      <td>I</td>\n",
              "      <td>VS2</td>\n",
              "      <td>GIA</td>\n",
              "      <td>natural</td>\n",
              "      <td>2020-11-29 12-26 PM</td>\n",
              "    </tr>\n",
              "    <tr>\n",
              "      <th>3</th>\n",
              "      <td>https://www.brilliantearth.com//loose-diamonds...</td>\n",
              "      <td>Round</td>\n",
              "      <td>400</td>\n",
              "      <td>0.30</td>\n",
              "      <td>Ideal</td>\n",
              "      <td>I</td>\n",
              "      <td>SI2</td>\n",
              "      <td>GIA</td>\n",
              "      <td>natural</td>\n",
              "      <td>2020-11-29 12-26 PM</td>\n",
              "    </tr>\n",
              "    <tr>\n",
              "      <th>4</th>\n",
              "      <td>https://www.brilliantearth.com//loose-diamonds...</td>\n",
              "      <td>Emerald</td>\n",
              "      <td>400</td>\n",
              "      <td>0.30</td>\n",
              "      <td>Ideal</td>\n",
              "      <td>I</td>\n",
              "      <td>SI1</td>\n",
              "      <td>GIA</td>\n",
              "      <td>natural</td>\n",
              "      <td>2020-11-29 12-26 PM</td>\n",
              "    </tr>\n",
              "    <tr>\n",
              "      <th>...</th>\n",
              "      <td>...</td>\n",
              "      <td>...</td>\n",
              "      <td>...</td>\n",
              "      <td>...</td>\n",
              "      <td>...</td>\n",
              "      <td>...</td>\n",
              "      <td>...</td>\n",
              "      <td>...</td>\n",
              "      <td>...</td>\n",
              "      <td>...</td>\n",
              "    </tr>\n",
              "    <tr>\n",
              "      <th>119302</th>\n",
              "      <td>https://www.brilliantearth.com//lab-diamonds-s...</td>\n",
              "      <td>Round</td>\n",
              "      <td>99040</td>\n",
              "      <td>5.71</td>\n",
              "      <td>Super Ideal</td>\n",
              "      <td>D</td>\n",
              "      <td>VVS2</td>\n",
              "      <td>GCAL</td>\n",
              "      <td>lab</td>\n",
              "      <td>2020-11-29 12-26 PM</td>\n",
              "    </tr>\n",
              "    <tr>\n",
              "      <th>119303</th>\n",
              "      <td>https://www.brilliantearth.com//lab-diamonds-s...</td>\n",
              "      <td>Cushion</td>\n",
              "      <td>107330</td>\n",
              "      <td>15.32</td>\n",
              "      <td>Very Good</td>\n",
              "      <td>G</td>\n",
              "      <td>SI2</td>\n",
              "      <td>IGI</td>\n",
              "      <td>lab</td>\n",
              "      <td>2020-11-29 12-26 PM</td>\n",
              "    </tr>\n",
              "    <tr>\n",
              "      <th>119304</th>\n",
              "      <td>https://www.brilliantearth.com//lab-diamonds-s...</td>\n",
              "      <td>Cushion</td>\n",
              "      <td>110110</td>\n",
              "      <td>10.05</td>\n",
              "      <td>Ideal</td>\n",
              "      <td>D</td>\n",
              "      <td>SI2</td>\n",
              "      <td>IGI</td>\n",
              "      <td>lab</td>\n",
              "      <td>2020-11-29 12-26 PM</td>\n",
              "    </tr>\n",
              "    <tr>\n",
              "      <th>119305</th>\n",
              "      <td>https://www.brilliantearth.com//lab-diamonds-s...</td>\n",
              "      <td>Oval</td>\n",
              "      <td>126030</td>\n",
              "      <td>10.33</td>\n",
              "      <td>Fair</td>\n",
              "      <td>D</td>\n",
              "      <td>VS2</td>\n",
              "      <td>IGI</td>\n",
              "      <td>lab</td>\n",
              "      <td>2020-11-29 12-26 PM</td>\n",
              "    </tr>\n",
              "    <tr>\n",
              "      <th>119306</th>\n",
              "      <td>https://www.brilliantearth.com//lab-diamonds-s...</td>\n",
              "      <td>Cushion</td>\n",
              "      <td>141710</td>\n",
              "      <td>10.25</td>\n",
              "      <td>Good</td>\n",
              "      <td>E</td>\n",
              "      <td>VS1</td>\n",
              "      <td>IGI</td>\n",
              "      <td>lab</td>\n",
              "      <td>2020-11-29 12-26 PM</td>\n",
              "    </tr>\n",
              "  </tbody>\n",
              "</table>\n",
              "<p>119307 rows × 10 columns</p>\n",
              "</div>"
            ],
            "text/plain": [
              "                                                      url  ...         date_fetched\n",
              "0       https://www.brilliantearth.com//loose-diamonds...  ...  2020-11-29 12-26 PM\n",
              "1       https://www.brilliantearth.com//loose-diamonds...  ...  2020-11-29 12-26 PM\n",
              "2       https://www.brilliantearth.com//loose-diamonds...  ...  2020-11-29 12-26 PM\n",
              "3       https://www.brilliantearth.com//loose-diamonds...  ...  2020-11-29 12-26 PM\n",
              "4       https://www.brilliantearth.com//loose-diamonds...  ...  2020-11-29 12-26 PM\n",
              "...                                                   ...  ...                  ...\n",
              "119302  https://www.brilliantearth.com//lab-diamonds-s...  ...  2020-11-29 12-26 PM\n",
              "119303  https://www.brilliantearth.com//lab-diamonds-s...  ...  2020-11-29 12-26 PM\n",
              "119304  https://www.brilliantearth.com//lab-diamonds-s...  ...  2020-11-29 12-26 PM\n",
              "119305  https://www.brilliantearth.com//lab-diamonds-s...  ...  2020-11-29 12-26 PM\n",
              "119306  https://www.brilliantearth.com//lab-diamonds-s...  ...  2020-11-29 12-26 PM\n",
              "\n",
              "[119307 rows x 10 columns]"
            ]
          },
          "metadata": {},
          "execution_count": 14
        }
      ]
    },
    {
      "cell_type": "code",
      "metadata": {
        "colab": {
          "base_uri": "https://localhost:8080/"
        },
        "id": "QynDgAkuzQno",
        "outputId": "ea17d012-3469-46d1-e3c5-8c7d6bb00f19"
      },
      "source": [
        "berlian = df1.drop('url',axis=1)\n",
        "berlian"
      ],
      "execution_count": null,
      "outputs": [
        {
          "output_type": "execute_result",
          "data": {
            "text/html": [
              "<div>\n",
              "<style scoped>\n",
              "    .dataframe tbody tr th:only-of-type {\n",
              "        vertical-align: middle;\n",
              "    }\n",
              "\n",
              "    .dataframe tbody tr th {\n",
              "        vertical-align: top;\n",
              "    }\n",
              "\n",
              "    .dataframe thead th {\n",
              "        text-align: right;\n",
              "    }\n",
              "</style>\n",
              "<table border=\"1\" class=\"dataframe\">\n",
              "  <thead>\n",
              "    <tr style=\"text-align: right;\">\n",
              "      <th></th>\n",
              "      <th>shape</th>\n",
              "      <th>price</th>\n",
              "      <th>carat</th>\n",
              "      <th>cut</th>\n",
              "      <th>color</th>\n",
              "      <th>clarity</th>\n",
              "      <th>report</th>\n",
              "      <th>type</th>\n",
              "      <th>date_fetched</th>\n",
              "    </tr>\n",
              "  </thead>\n",
              "  <tbody>\n",
              "    <tr>\n",
              "      <th>0</th>\n",
              "      <td>Round</td>\n",
              "      <td>400</td>\n",
              "      <td>0.30</td>\n",
              "      <td>Very Good</td>\n",
              "      <td>J</td>\n",
              "      <td>SI2</td>\n",
              "      <td>GIA</td>\n",
              "      <td>natural</td>\n",
              "      <td>2020-11-29 12-26 PM</td>\n",
              "    </tr>\n",
              "    <tr>\n",
              "      <th>1</th>\n",
              "      <td>Emerald</td>\n",
              "      <td>400</td>\n",
              "      <td>0.31</td>\n",
              "      <td>Ideal</td>\n",
              "      <td>I</td>\n",
              "      <td>SI1</td>\n",
              "      <td>GIA</td>\n",
              "      <td>natural</td>\n",
              "      <td>2020-11-29 12-26 PM</td>\n",
              "    </tr>\n",
              "    <tr>\n",
              "      <th>2</th>\n",
              "      <td>Emerald</td>\n",
              "      <td>400</td>\n",
              "      <td>0.30</td>\n",
              "      <td>Ideal</td>\n",
              "      <td>I</td>\n",
              "      <td>VS2</td>\n",
              "      <td>GIA</td>\n",
              "      <td>natural</td>\n",
              "      <td>2020-11-29 12-26 PM</td>\n",
              "    </tr>\n",
              "    <tr>\n",
              "      <th>3</th>\n",
              "      <td>Round</td>\n",
              "      <td>400</td>\n",
              "      <td>0.30</td>\n",
              "      <td>Ideal</td>\n",
              "      <td>I</td>\n",
              "      <td>SI2</td>\n",
              "      <td>GIA</td>\n",
              "      <td>natural</td>\n",
              "      <td>2020-11-29 12-26 PM</td>\n",
              "    </tr>\n",
              "    <tr>\n",
              "      <th>4</th>\n",
              "      <td>Emerald</td>\n",
              "      <td>400</td>\n",
              "      <td>0.30</td>\n",
              "      <td>Ideal</td>\n",
              "      <td>I</td>\n",
              "      <td>SI1</td>\n",
              "      <td>GIA</td>\n",
              "      <td>natural</td>\n",
              "      <td>2020-11-29 12-26 PM</td>\n",
              "    </tr>\n",
              "    <tr>\n",
              "      <th>...</th>\n",
              "      <td>...</td>\n",
              "      <td>...</td>\n",
              "      <td>...</td>\n",
              "      <td>...</td>\n",
              "      <td>...</td>\n",
              "      <td>...</td>\n",
              "      <td>...</td>\n",
              "      <td>...</td>\n",
              "      <td>...</td>\n",
              "    </tr>\n",
              "    <tr>\n",
              "      <th>119302</th>\n",
              "      <td>Round</td>\n",
              "      <td>99040</td>\n",
              "      <td>5.71</td>\n",
              "      <td>Super Ideal</td>\n",
              "      <td>D</td>\n",
              "      <td>VVS2</td>\n",
              "      <td>GCAL</td>\n",
              "      <td>lab</td>\n",
              "      <td>2020-11-29 12-26 PM</td>\n",
              "    </tr>\n",
              "    <tr>\n",
              "      <th>119303</th>\n",
              "      <td>Cushion</td>\n",
              "      <td>107330</td>\n",
              "      <td>15.32</td>\n",
              "      <td>Very Good</td>\n",
              "      <td>G</td>\n",
              "      <td>SI2</td>\n",
              "      <td>IGI</td>\n",
              "      <td>lab</td>\n",
              "      <td>2020-11-29 12-26 PM</td>\n",
              "    </tr>\n",
              "    <tr>\n",
              "      <th>119304</th>\n",
              "      <td>Cushion</td>\n",
              "      <td>110110</td>\n",
              "      <td>10.05</td>\n",
              "      <td>Ideal</td>\n",
              "      <td>D</td>\n",
              "      <td>SI2</td>\n",
              "      <td>IGI</td>\n",
              "      <td>lab</td>\n",
              "      <td>2020-11-29 12-26 PM</td>\n",
              "    </tr>\n",
              "    <tr>\n",
              "      <th>119305</th>\n",
              "      <td>Oval</td>\n",
              "      <td>126030</td>\n",
              "      <td>10.33</td>\n",
              "      <td>Fair</td>\n",
              "      <td>D</td>\n",
              "      <td>VS2</td>\n",
              "      <td>IGI</td>\n",
              "      <td>lab</td>\n",
              "      <td>2020-11-29 12-26 PM</td>\n",
              "    </tr>\n",
              "    <tr>\n",
              "      <th>119306</th>\n",
              "      <td>Cushion</td>\n",
              "      <td>141710</td>\n",
              "      <td>10.25</td>\n",
              "      <td>Good</td>\n",
              "      <td>E</td>\n",
              "      <td>VS1</td>\n",
              "      <td>IGI</td>\n",
              "      <td>lab</td>\n",
              "      <td>2020-11-29 12-26 PM</td>\n",
              "    </tr>\n",
              "  </tbody>\n",
              "</table>\n",
              "<p>119307 rows × 9 columns</p>\n",
              "</div>"
            ],
            "text/plain": [
              "          shape   price  carat  ... report     type         date_fetched\n",
              "0         Round     400   0.30  ...    GIA  natural  2020-11-29 12-26 PM\n",
              "1       Emerald     400   0.31  ...    GIA  natural  2020-11-29 12-26 PM\n",
              "2       Emerald     400   0.30  ...    GIA  natural  2020-11-29 12-26 PM\n",
              "3         Round     400   0.30  ...    GIA  natural  2020-11-29 12-26 PM\n",
              "4       Emerald     400   0.30  ...    GIA  natural  2020-11-29 12-26 PM\n",
              "...         ...     ...    ...  ...    ...      ...                  ...\n",
              "119302    Round   99040   5.71  ...   GCAL      lab  2020-11-29 12-26 PM\n",
              "119303  Cushion  107330  15.32  ...    IGI      lab  2020-11-29 12-26 PM\n",
              "119304  Cushion  110110  10.05  ...    IGI      lab  2020-11-29 12-26 PM\n",
              "119305     Oval  126030  10.33  ...    IGI      lab  2020-11-29 12-26 PM\n",
              "119306  Cushion  141710  10.25  ...    IGI      lab  2020-11-29 12-26 PM\n",
              "\n",
              "[119307 rows x 9 columns]"
            ]
          },
          "metadata": {},
          "execution_count": 15
        }
      ]
    },
    {
      "cell_type": "markdown",
      "metadata": {
        "id": "eZx5sTLk8ZBS"
      },
      "source": [
        "## **Deskripsi Variable**\n",
        "Pada dataset diamond_dataset.csv terdapat beberapa variabel, yaitu :\n",
        "\n",
        "\n",
        "*   Price, dalam mata uang dolar AS ($) adalah fitur target\n",
        "*   Carat, merepresentasikan besar dari berlian\n",
        "*   Shape, merepresentasikan bentuk dari berlian\n",
        "*   Cut, merepresentasikan kualitas pemotongan berlian\n",
        "*   clarity, merepresentasikan kejernihan berlian\n",
        "*   report, merepresentasikan sertifikat berlian\n",
        "*   type, merepresentasikan berlian natural/sintetis\n",
        "*   date_fetched, merepresentasikan tanggal diambilnya berlian\n",
        "\n"
      ]
    },
    {
      "cell_type": "code",
      "metadata": {
        "colab": {
          "base_uri": "https://localhost:8080/"
        },
        "id": "JrtmY5oTzS1Y",
        "outputId": "a315f348-d751-4868-9d1f-75e3433b14c3"
      },
      "source": [
        "berlian.info()"
      ],
      "execution_count": null,
      "outputs": [
        {
          "output_type": "stream",
          "name": "stdout",
          "text": [
            "<class 'pandas.core.frame.DataFrame'>\n",
            "RangeIndex: 119307 entries, 0 to 119306\n",
            "Data columns (total 9 columns):\n",
            " #   Column        Non-Null Count   Dtype  \n",
            "---  ------        --------------   -----  \n",
            " 0   shape         119307 non-null  object \n",
            " 1   price         119307 non-null  int64  \n",
            " 2   carat         119307 non-null  float64\n",
            " 3   cut           119307 non-null  object \n",
            " 4   color         119307 non-null  object \n",
            " 5   clarity       119307 non-null  object \n",
            " 6   report        119307 non-null  object \n",
            " 7   type          119307 non-null  object \n",
            " 8   date_fetched  119307 non-null  object \n",
            "dtypes: float64(1), int64(1), object(7)\n",
            "memory usage: 8.2+ MB\n"
          ]
        }
      ]
    },
    {
      "cell_type": "code",
      "metadata": {
        "colab": {
          "base_uri": "https://localhost:8080/",
          "height": 295
        },
        "id": "8HoEi7MRzUOQ",
        "outputId": "be3866c6-15d0-4457-a669-0d77495ef03c"
      },
      "source": [
        "berlian.describe()"
      ],
      "execution_count": null,
      "outputs": [
        {
          "output_type": "execute_result",
          "data": {
            "text/html": [
              "<div>\n",
              "<style scoped>\n",
              "    .dataframe tbody tr th:only-of-type {\n",
              "        vertical-align: middle;\n",
              "    }\n",
              "\n",
              "    .dataframe tbody tr th {\n",
              "        vertical-align: top;\n",
              "    }\n",
              "\n",
              "    .dataframe thead th {\n",
              "        text-align: right;\n",
              "    }\n",
              "</style>\n",
              "<table border=\"1\" class=\"dataframe\">\n",
              "  <thead>\n",
              "    <tr style=\"text-align: right;\">\n",
              "      <th></th>\n",
              "      <th>price</th>\n",
              "      <th>carat</th>\n",
              "    </tr>\n",
              "  </thead>\n",
              "  <tbody>\n",
              "    <tr>\n",
              "      <th>count</th>\n",
              "      <td>1.193070e+05</td>\n",
              "      <td>119307.000000</td>\n",
              "    </tr>\n",
              "    <tr>\n",
              "      <th>mean</th>\n",
              "      <td>3.286843e+03</td>\n",
              "      <td>0.884169</td>\n",
              "    </tr>\n",
              "    <tr>\n",
              "      <th>std</th>\n",
              "      <td>9.114695e+03</td>\n",
              "      <td>0.671141</td>\n",
              "    </tr>\n",
              "    <tr>\n",
              "      <th>min</th>\n",
              "      <td>2.700000e+02</td>\n",
              "      <td>0.250000</td>\n",
              "    </tr>\n",
              "    <tr>\n",
              "      <th>25%</th>\n",
              "      <td>9.000000e+02</td>\n",
              "      <td>0.400000</td>\n",
              "    </tr>\n",
              "    <tr>\n",
              "      <th>50%</th>\n",
              "      <td>1.770000e+03</td>\n",
              "      <td>0.700000</td>\n",
              "    </tr>\n",
              "    <tr>\n",
              "      <th>75%</th>\n",
              "      <td>3.490000e+03</td>\n",
              "      <td>1.100000</td>\n",
              "    </tr>\n",
              "    <tr>\n",
              "      <th>max</th>\n",
              "      <td>1.348720e+06</td>\n",
              "      <td>15.320000</td>\n",
              "    </tr>\n",
              "  </tbody>\n",
              "</table>\n",
              "</div>"
            ],
            "text/plain": [
              "              price          carat\n",
              "count  1.193070e+05  119307.000000\n",
              "mean   3.286843e+03       0.884169\n",
              "std    9.114695e+03       0.671141\n",
              "min    2.700000e+02       0.250000\n",
              "25%    9.000000e+02       0.400000\n",
              "50%    1.770000e+03       0.700000\n",
              "75%    3.490000e+03       1.100000\n",
              "max    1.348720e+06      15.320000"
            ]
          },
          "metadata": {},
          "execution_count": 17
        }
      ]
    },
    {
      "cell_type": "markdown",
      "metadata": {
        "id": "4GYJ2x0r_XVU"
      },
      "source": [
        "## **Menangani Outliers**\n",
        "Pada bagian ini saya menangani apabila ada sample yang nilainya diluar cakupan yang kemunculannya sangat jarang dan berbeda dari yang lainnya.\n",
        "Disini saya menggunakan metode IQR Method"
      ]
    },
    {
      "cell_type": "code",
      "metadata": {
        "colab": {
          "base_uri": "https://localhost:8080/",
          "height": 297
        },
        "id": "q8rEZJAszWqN",
        "outputId": "834bc616-bc1a-40c7-c357-7e2e9f4457d7"
      },
      "source": [
        "sns.boxplot(x=berlian['carat'])"
      ],
      "execution_count": null,
      "outputs": [
        {
          "output_type": "execute_result",
          "data": {
            "text/plain": [
              "<matplotlib.axes._subplots.AxesSubplot at 0x7f590d88ff50>"
            ]
          },
          "metadata": {},
          "execution_count": 18
        },
        {
          "output_type": "display_data",
          "data": {
            "image/png": "[encoded data removed]",
            "text/plain": [
              "<Figure size 432x288 with 1 Axes>"
            ]
          },
          "metadata": {
            "needs_background": "light"
          }
        }
      ]
    },
    {
      "cell_type": "code",
      "metadata": {
        "colab": {
          "base_uri": "https://localhost:8080/"
        },
        "id": "YOm6T41ezZCX",
        "outputId": "a8f75104-f55d-4ae8-9588-c07beb709808"
      },
      "source": [
        "Q1 = berlian.quantile(0.25)\n",
        "Q3 = berlian.quantile(0.75)\n",
        "IQR=Q3-Q1\n",
        "berlian=berlian[~((berlian<(Q1-1.5*IQR))|(berlian>(Q3+1.5*IQR))).any(axis=1)]\n",
        " \n",
        "# Cek ukuran dataset setelah kita drop outliers\n",
        "berlian.shape"
      ],
      "execution_count": null,
      "outputs": [
        {
          "output_type": "execute_result",
          "data": {
            "text/plain": [
              "(107906, 9)"
            ]
          },
          "metadata": {},
          "execution_count": 19
        }
      ]
    },
    {
      "cell_type": "markdown",
      "metadata": {
        "id": "tJEP7st_AJ7T"
      },
      "source": [
        "## **Univariate Analysis**\n",
        "pada bagian ini saya melakukan proses analisis data dengan teknik Univariate EDA, membagi menjadi numerical features dan categorical features"
      ]
    },
    {
      "cell_type": "code",
      "metadata": {
        "id": "eQs0UrbGzazu"
      },
      "source": [
        "numerical_features = ['price', 'carat']\n",
        "categorical_features = ['shape', 'cut', 'color', 'clarity', 'report', 'type', 'date_fetched']"
      ],
      "execution_count": null,
      "outputs": []
    },
    {
      "cell_type": "markdown",
      "metadata": {
        "id": "2HX3B86QAnl3"
      },
      "source": [
        "### Numerical Features"
      ]
    },
    {
      "cell_type": "code",
      "metadata": {
        "colab": {
          "base_uri": "https://localhost:8080/",
          "height": 510
        },
        "id": "qYhlwEu4zezs",
        "outputId": "f20a8316-88b8-4a80-9e79-a77bd4625b62"
      },
      "source": [
        "feature = categorical_features[0]\n",
        "count = berlian[feature].value_counts()\n",
        "percent = 100*berlian[feature].value_counts(normalize=True)\n",
        "df = pd.DataFrame({'jumlah sampel':count, 'persentase':percent.round(1)})\n",
        "print(df)\n",
        "count.plot(kind='bar', title=feature);"
      ],
      "execution_count": null,
      "outputs": [
        {
          "output_type": "stream",
          "name": "stdout",
          "text": [
            "          jumlah sampel  persentase\n",
            "Round             70427        65.3\n",
            "Oval              10987        10.2\n",
            "Pear               8720         8.1\n",
            "Emerald            5909         5.5\n",
            "Princess           4526         4.2\n",
            "Cushion            3138         2.9\n",
            "Marquise           1684         1.6\n",
            "Heart              1245         1.2\n",
            "Radiant             829         0.8\n",
            "Asscher             441         0.4\n"
          ]
        },
        {
          "output_type": "display_data",
          "data": {
            "image/png": "[encoded data removed]",
            "text/plain": [
              "<Figure size 432x288 with 1 Axes>"
            ]
          },
          "metadata": {
            "needs_background": "light"
          }
        }
      ]
    },
    {
      "cell_type": "code",
      "metadata": {
        "colab": {
          "base_uri": "https://localhost:8080/",
          "height": 434
        },
        "id": "QfjaAdnYzhCH",
        "outputId": "ff95cd49-60ca-49aa-a979-18b945a35af3"
      },
      "source": [
        "feature = categorical_features[1]\n",
        "count = berlian[feature].value_counts()\n",
        "percent = 100*berlian[feature].value_counts(normalize=True)\n",
        "df = pd.DataFrame({'jumlah sampel':count, 'persentase':percent.round(1)})\n",
        "print(df)\n",
        "count.plot(kind='bar', title=feature);"
      ],
      "execution_count": null,
      "outputs": [
        {
          "output_type": "stream",
          "name": "stdout",
          "text": [
            "             jumlah sampel  persentase\n",
            "Super Ideal          49193        45.6\n",
            "Ideal                35932        33.3\n",
            "Very Good            19349        17.9\n",
            "Good                  3113         2.9\n",
            "Fair                   319         0.3\n"
          ]
        },
        {
          "output_type": "display_data",
          "data": {
            "image/png": "[encoded data removed]",
            "text/plain": [
              "<Figure size 432x288 with 1 Axes>"
            ]
          },
          "metadata": {
            "needs_background": "light"
          }
        }
      ]
    },
    {
      "cell_type": "code",
      "metadata": {
        "colab": {
          "base_uri": "https://localhost:8080/",
          "height": 420
        },
        "id": "F1W3eQrczjHr",
        "outputId": "09cf39c6-be7b-4291-dfd7-f4b830b5f073"
      },
      "source": [
        "feature = categorical_features[2]\n",
        "count = berlian[feature].value_counts()\n",
        "percent = 100*berlian[feature].value_counts(normalize=True)\n",
        "df = pd.DataFrame({'jumlah sampel':count, 'persentase':percent.round(1)})\n",
        "print(df)\n",
        "count.plot(kind='bar', title=feature);"
      ],
      "execution_count": null,
      "outputs": [
        {
          "output_type": "stream",
          "name": "stdout",
          "text": [
            "   jumlah sampel  persentase\n",
            "E          22676        21.0\n",
            "D          19123        17.7\n",
            "F          17768        16.5\n",
            "G          15576        14.4\n",
            "I          13248        12.3\n",
            "H          11382        10.5\n",
            "J           8133         7.5\n"
          ]
        },
        {
          "output_type": "display_data",
          "data": {
            "image/png": "[encoded data removed]",
            "text/plain": [
              "<Figure size 432x288 with 1 Axes>"
            ]
          },
          "metadata": {
            "needs_background": "light"
          }
        }
      ]
    },
    {
      "cell_type": "markdown",
      "metadata": {
        "id": "jphqFlQ8A00i"
      },
      "source": [
        "### Categorical Features"
      ]
    },
    {
      "cell_type": "code",
      "metadata": {
        "colab": {
          "base_uri": "https://localhost:8080/",
          "height": 538
        },
        "id": "JB3QfzzGzlwb",
        "outputId": "86d20fa0-27da-4fe5-b8e0-52aa24eb0c72"
      },
      "source": [
        "berlian.hist(bins=50, figsize=(20,15))\n",
        "plt.show()"
      ],
      "execution_count": null,
      "outputs": [
        {
          "output_type": "display_data",
          "data": {
            "image/png": "[encoded data removed]",
            "text/plain": [
              "<Figure size 1440x1080 with 2 Axes>"
            ]
          },
          "metadata": {
            "needs_background": "light"
          }
        }
      ]
    },
    {
      "cell_type": "markdown",
      "metadata": {
        "id": "_E92l_tRBDHU"
      },
      "source": [
        "## **Multivariate Analysis**\n",
        "Pada bagian ini saya melakukan analisis data pada fitur kategori dan numerik untuk menunjukkan hubungan dua variabel (bivariate EDA)"
      ]
    },
    {
      "cell_type": "markdown",
      "metadata": {
        "id": "_Zayuy-KBagi"
      },
      "source": [
        "### Categorical Features\n"
      ]
    },
    {
      "cell_type": "code",
      "metadata": {
        "colab": {
          "base_uri": "https://localhost:8080/",
          "height": 1000
        },
        "id": "tnDvYGjSzmg1",
        "outputId": "34508483-7f35-4795-d3cc-88105c1f5f2e"
      },
      "source": [
        "cat_features = berlian.select_dtypes(include='object').columns.to_list()\n",
        " \n",
        "for col in cat_features:\n",
        "  sns.catplot(x=col, y=\"price\", kind=\"bar\", dodge=False, height = 4, aspect = 3,  data=berlian, palette=\"Set3\")\n",
        "  plt.title(\"Rata-rata 'price' Relatif terhadap - {}\".format(col))"
      ],
      "execution_count": null,
      "outputs": [
        {
          "output_type": "display_data",
          "data": {
            "image/png": "[encoded data removed]",
            "text/plain": [
              "<Figure size 864x288 with 1 Axes>"
            ]
          },
          "metadata": {
            "needs_background": "light"
          }
        },
        {
          "output_type": "display_data",
          "data": {
            "image/png": "[encoded data removed]",
            "text/plain": [
              "<Figure size 864x288 with 1 Axes>"
            ]
          },
          "metadata": {
            "needs_background": "light"
          }
        },
        {
          "output_type": "display_data",
          "data": {
            "image/png": "[encoded data removed]",
            "text/plain": [
              "<Figure size 864x288 with 1 Axes>"
            ]
          },
          "metadata": {
            "needs_background": "light"
          }
        },
        {
          "output_type": "display_data",
          "data": {
            "image/png": "[encoded data removed]",
            "text/plain": [
              "<Figure size 864x288 with 1 Axes>"
            ]
          },
          "metadata": {
            "needs_background": "light"
          }
        },
        {
          "output_type": "display_data",
          "data": {
            "image/png": "[encoded data removed]",
            "text/plain": [
              "<Figure size 864x288 with 1 Axes>"
            ]
          },
          "metadata": {
            "needs_background": "light"
          }
        },
        {
          "output_type": "display_data",
          "data": {
            "image/png": "[encoded data removed]",
            "text/plain": [
              "<Figure size 864x288 with 1 Axes>"
            ]
          },
          "metadata": {
            "needs_background": "light"
          }
        },
        {
          "output_type": "display_data",
          "data": {
            "image/png": "[encoded data removed]",
            "text/plain": [
              "<Figure size 864x288 with 1 Axes>"
            ]
          },
          "metadata": {
            "needs_background": "light"
          }
        }
      ]
    },
    {
      "cell_type": "markdown",
      "metadata": {
        "id": "9UeklWa5Bhf2"
      },
      "source": [
        "### Numerical Features\n"
      ]
    },
    {
      "cell_type": "code",
      "metadata": {
        "colab": {
          "base_uri": "https://localhost:8080/",
          "height": 392
        },
        "id": "-8BeEHTTzsuY",
        "outputId": "d0a04355-f1c0-429f-ba73-e676ead4f99e"
      },
      "source": [
        "sns.pairplot(berlian, diag_kind = 'kde')"
      ],
      "execution_count": null,
      "outputs": [
        {
          "output_type": "execute_result",
          "data": {
            "text/plain": [
              "<seaborn.axisgrid.PairGrid at 0x7f5903283a10>"
            ]
          },
          "metadata": {},
          "execution_count": 26
        },
        {
          "output_type": "display_data",
          "data": {
            "image/png": "[encoded data removed]",
            "text/plain": [
              "<Figure size 360x360 with 6 Axes>"
            ]
          },
          "metadata": {
            "needs_background": "light"
          }
        }
      ]
    },
    {
      "cell_type": "code",
      "metadata": {
        "colab": {
          "base_uri": "https://localhost:8080/",
          "height": 522
        },
        "id": "e_W7bDx5zuyv",
        "outputId": "5122f4cf-c9c4-4d3a-915c-b37f62fbc576"
      },
      "source": [
        "plt.figure(figsize=(10, 8))\n",
        "correlation_matrix = berlian.corr().round(2)\n",
        "# annot = True to print the values inside the square\n",
        "sns.heatmap(data=correlation_matrix, annot=True, cmap='coolwarm', linewidths=0.5, )\n",
        "plt.title(\"Correlation Matrix untuk Fitur Numerik \", size=20)"
      ],
      "execution_count": null,
      "outputs": [
        {
          "output_type": "execute_result",
          "data": {
            "text/plain": [
              "Text(0.5, 1.0, 'Correlation Matrix untuk Fitur Numerik ')"
            ]
          },
          "metadata": {},
          "execution_count": 27
        },
        {
          "output_type": "display_data",
          "data": {
            "image/png": "[encoded data removed]",
            "text/plain": [
              "<Figure size 720x576 with 2 Axes>"
            ]
          },
          "metadata": {
            "needs_background": "light"
          }
        }
      ]
    },
    {
      "cell_type": "markdown",
      "metadata": {
        "id": "1ETSGmdAB1Cz"
      },
      "source": [
        "# **Data Preparation**\n",
        "Pada bagian ini saya melakukan proses transformasi pada data, antara lain :\n",
        "\n",
        "\n",
        "*   Encoding Fitur Kategori, pada proses ini saya menggunakan teknik one-hot-encoding\n",
        "*   Pembagian dataset dengan fitur train_test_split dari library sklearn\n",
        "*   Standarisasi\n",
        "\n",
        "\n"
      ]
    },
    {
      "cell_type": "markdown",
      "metadata": {
        "id": "uHm5iABBFH3k"
      },
      "source": [
        "## **Encoding Fitur Kategori (one-hot-encoding)**"
      ]
    },
    {
      "cell_type": "code",
      "metadata": {
        "colab": {
          "base_uri": "https://localhost:8080/",
          "height": 240
        },
        "id": "hjhTERjGzv4T",
        "outputId": "aa5dbfac-ad79-4fcc-9e3a-cb7ecee5c6dd"
      },
      "source": [
        "from sklearn.preprocessing import  OneHotEncoder\n",
        "berlian = pd.concat([berlian, pd.get_dummies(berlian['shape'], prefix='shape', drop_first=True)],axis=1)\n",
        "berlian = pd.concat([berlian, pd.get_dummies(berlian['cut'], prefix='cut', drop_first=True)],axis=1)\n",
        "berlian = pd.concat([berlian, pd.get_dummies(berlian['color'], prefix='color', drop_first=True)],axis=1)\n",
        "berlian = pd.concat([berlian, pd.get_dummies(berlian['clarity'], prefix='clarity', drop_first=True)],axis=1)\n",
        "berlian = pd.concat([berlian, pd.get_dummies(berlian['report'], prefix='report', drop_first=True)],axis=1)\n",
        "berlian = pd.concat([berlian, pd.get_dummies(berlian['type'], prefix='type', drop_first=True)],axis=1)\n",
        "berlian = pd.concat([berlian, pd.get_dummies(berlian['date_fetched'], prefix='date_fetched', drop_first=True)],axis=1)\n",
        "berlian.drop(['shape', 'cut', 'color', 'clarity', 'report', 'type', 'date_fetched'], axis=1, inplace=True)\n",
        "berlian.head()"
      ],
      "execution_count": null,
      "outputs": [
        {
          "output_type": "execute_result",
          "data": {
            "text/html": [
              "<div>\n",
              "<style scoped>\n",
              "    .dataframe tbody tr th:only-of-type {\n",
              "        vertical-align: middle;\n",
              "    }\n",
              "\n",
              "    .dataframe tbody tr th {\n",
              "        vertical-align: top;\n",
              "    }\n",
              "\n",
              "    .dataframe thead th {\n",
              "        text-align: right;\n",
              "    }\n",
              "</style>\n",
              "<table border=\"1\" class=\"dataframe\">\n",
              "  <thead>\n",
              "    <tr style=\"text-align: right;\">\n",
              "      <th></th>\n",
              "      <th>price</th>\n",
              "      <th>carat</th>\n",
              "      <th>shape_Cushion</th>\n",
              "      <th>shape_Emerald</th>\n",
              "      <th>shape_Heart</th>\n",
              "      <th>shape_Marquise</th>\n",
              "      <th>shape_Oval</th>\n",
              "      <th>shape_Pear</th>\n",
              "      <th>shape_Princess</th>\n",
              "      <th>shape_Radiant</th>\n",
              "      <th>shape_Round</th>\n",
              "      <th>cut_Good</th>\n",
              "      <th>cut_Ideal</th>\n",
              "      <th>cut_Super Ideal</th>\n",
              "      <th>cut_Very Good</th>\n",
              "      <th>color_E</th>\n",
              "      <th>color_F</th>\n",
              "      <th>color_G</th>\n",
              "      <th>color_H</th>\n",
              "      <th>color_I</th>\n",
              "      <th>color_J</th>\n",
              "      <th>clarity_IF</th>\n",
              "      <th>clarity_SI1</th>\n",
              "      <th>clarity_SI2</th>\n",
              "      <th>clarity_VS1</th>\n",
              "      <th>clarity_VS2</th>\n",
              "      <th>clarity_VVS1</th>\n",
              "      <th>clarity_VVS2</th>\n",
              "      <th>report_GIA</th>\n",
              "      <th>report_HRD</th>\n",
              "      <th>report_IGI</th>\n",
              "      <th>type_natural</th>\n",
              "    </tr>\n",
              "  </thead>\n",
              "  <tbody>\n",
              "    <tr>\n",
              "      <th>0</th>\n",
              "      <td>400</td>\n",
              "      <td>0.30</td>\n",
              "      <td>0</td>\n",
              "      <td>0</td>\n",
              "      <td>0</td>\n",
              "      <td>0</td>\n",
              "      <td>0</td>\n",
              "      <td>0</td>\n",
              "      <td>0</td>\n",
              "      <td>0</td>\n",
              "      <td>1</td>\n",
              "      <td>0</td>\n",
              "      <td>0</td>\n",
              "      <td>0</td>\n",
              "      <td>1</td>\n",
              "      <td>0</td>\n",
              "      <td>0</td>\n",
              "      <td>0</td>\n",
              "      <td>0</td>\n",
              "      <td>0</td>\n",
              "      <td>1</td>\n",
              "      <td>0</td>\n",
              "      <td>0</td>\n",
              "      <td>1</td>\n",
              "      <td>0</td>\n",
              "      <td>0</td>\n",
              "      <td>0</td>\n",
              "      <td>0</td>\n",
              "      <td>1</td>\n",
              "      <td>0</td>\n",
              "      <td>0</td>\n",
              "      <td>1</td>\n",
              "    </tr>\n",
              "    <tr>\n",
              "      <th>1</th>\n",
              "      <td>400</td>\n",
              "      <td>0.31</td>\n",
              "      <td>0</td>\n",
              "      <td>1</td>\n",
              "      <td>0</td>\n",
              "      <td>0</td>\n",
              "      <td>0</td>\n",
              "      <td>0</td>\n",
              "      <td>0</td>\n",
              "      <td>0</td>\n",
              "      <td>0</td>\n",
              "      <td>0</td>\n",
              "      <td>1</td>\n",
              "      <td>0</td>\n",
              "      <td>0</td>\n",
              "      <td>0</td>\n",
              "      <td>0</td>\n",
              "      <td>0</td>\n",
              "      <td>0</td>\n",
              "      <td>1</td>\n",
              "      <td>0</td>\n",
              "      <td>0</td>\n",
              "      <td>1</td>\n",
              "      <td>0</td>\n",
              "      <td>0</td>\n",
              "      <td>0</td>\n",
              "      <td>0</td>\n",
              "      <td>0</td>\n",
              "      <td>1</td>\n",
              "      <td>0</td>\n",
              "      <td>0</td>\n",
              "      <td>1</td>\n",
              "    </tr>\n",
              "    <tr>\n",
              "      <th>2</th>\n",
              "      <td>400</td>\n",
              "      <td>0.30</td>\n",
              "      <td>0</td>\n",
              "      <td>1</td>\n",
              "      <td>0</td>\n",
              "      <td>0</td>\n",
              "      <td>0</td>\n",
              "      <td>0</td>\n",
              "      <td>0</td>\n",
              "      <td>0</td>\n",
              "      <td>0</td>\n",
              "      <td>0</td>\n",
              "      <td>1</td>\n",
              "      <td>0</td>\n",
              "      <td>0</td>\n",
              "      <td>0</td>\n",
              "      <td>0</td>\n",
              "      <td>0</td>\n",
              "      <td>0</td>\n",
              "      <td>1</td>\n",
              "      <td>0</td>\n",
              "      <td>0</td>\n",
              "      <td>0</td>\n",
              "      <td>0</td>\n",
              "      <td>0</td>\n",
              "      <td>1</td>\n",
              "      <td>0</td>\n",
              "      <td>0</td>\n",
              "      <td>1</td>\n",
              "      <td>0</td>\n",
              "      <td>0</td>\n",
              "      <td>1</td>\n",
              "    </tr>\n",
              "    <tr>\n",
              "      <th>3</th>\n",
              "      <td>400</td>\n",
              "      <td>0.30</td>\n",
              "      <td>0</td>\n",
              "      <td>0</td>\n",
              "      <td>0</td>\n",
              "      <td>0</td>\n",
              "      <td>0</td>\n",
              "      <td>0</td>\n",
              "      <td>0</td>\n",
              "      <td>0</td>\n",
              "      <td>1</td>\n",
              "      <td>0</td>\n",
              "      <td>1</td>\n",
              "      <td>0</td>\n",
              "      <td>0</td>\n",
              "      <td>0</td>\n",
              "      <td>0</td>\n",
              "      <td>0</td>\n",
              "      <td>0</td>\n",
              "      <td>1</td>\n",
              "      <td>0</td>\n",
              "      <td>0</td>\n",
              "      <td>0</td>\n",
              "      <td>1</td>\n",
              "      <td>0</td>\n",
              "      <td>0</td>\n",
              "      <td>0</td>\n",
              "      <td>0</td>\n",
              "      <td>1</td>\n",
              "      <td>0</td>\n",
              "      <td>0</td>\n",
              "      <td>1</td>\n",
              "    </tr>\n",
              "    <tr>\n",
              "      <th>4</th>\n",
              "      <td>400</td>\n",
              "      <td>0.30</td>\n",
              "      <td>0</td>\n",
              "      <td>1</td>\n",
              "      <td>0</td>\n",
              "      <td>0</td>\n",
              "      <td>0</td>\n",
              "      <td>0</td>\n",
              "      <td>0</td>\n",
              "      <td>0</td>\n",
              "      <td>0</td>\n",
              "      <td>0</td>\n",
              "      <td>1</td>\n",
              "      <td>0</td>\n",
              "      <td>0</td>\n",
              "      <td>0</td>\n",
              "      <td>0</td>\n",
              "      <td>0</td>\n",
              "      <td>0</td>\n",
              "      <td>1</td>\n",
              "      <td>0</td>\n",
              "      <td>0</td>\n",
              "      <td>1</td>\n",
              "      <td>0</td>\n",
              "      <td>0</td>\n",
              "      <td>0</td>\n",
              "      <td>0</td>\n",
              "      <td>0</td>\n",
              "      <td>1</td>\n",
              "      <td>0</td>\n",
              "      <td>0</td>\n",
              "      <td>1</td>\n",
              "    </tr>\n",
              "  </tbody>\n",
              "</table>\n",
              "</div>"
            ],
            "text/plain": [
              "   price  carat  shape_Cushion  ...  report_HRD  report_IGI  type_natural\n",
              "0    400   0.30              0  ...           0           0             1\n",
              "1    400   0.31              0  ...           0           0             1\n",
              "2    400   0.30              0  ...           0           0             1\n",
              "3    400   0.30              0  ...           0           0             1\n",
              "4    400   0.30              0  ...           0           0             1\n",
              "\n",
              "[5 rows x 32 columns]"
            ]
          },
          "metadata": {},
          "execution_count": 28
        }
      ]
    },
    {
      "cell_type": "markdown",
      "metadata": {
        "id": "aZAyDwO_FRfU"
      },
      "source": [
        "## **Train Test Split**\n"
      ]
    },
    {
      "cell_type": "code",
      "metadata": {
        "id": "yRTxsQMezyTn"
      },
      "source": [
        "from sklearn.model_selection import train_test_split\n",
        " \n",
        "X = berlian.drop([\"price\"],axis =1)\n",
        "y = berlian[\"price\"]\n",
        "X_train, X_test, y_train, y_test = train_test_split(X, y, test_size = 0.1, random_state = 123)"
      ],
      "execution_count": null,
      "outputs": []
    },
    {
      "cell_type": "code",
      "metadata": {
        "colab": {
          "base_uri": "https://localhost:8080/"
        },
        "id": "uA55WpQGz1Dm",
        "outputId": "d9498363-f230-4846-cfec-a7ef6b77baf2"
      },
      "source": [
        "print(f'Total # of sample in whole dataset: {len(X)}')\n",
        "print(f'Total # of sample in train dataset: {len(X_train)}')\n",
        "print(f'Total # of sample in test dataset: {len(X_test)}')"
      ],
      "execution_count": null,
      "outputs": [
        {
          "output_type": "stream",
          "name": "stdout",
          "text": [
            "Total # of sample in whole dataset: 107906\n",
            "Total # of sample in train dataset: 97115\n",
            "Total # of sample in test dataset: 10791\n"
          ]
        }
      ]
    },
    {
      "cell_type": "markdown",
      "metadata": {
        "id": "BDLTmg-2Gesu"
      },
      "source": [
        "## **Standarisasi**"
      ]
    },
    {
      "cell_type": "code",
      "metadata": {
        "colab": {
          "base_uri": "https://localhost:8080/",
          "height": 434
        },
        "id": "eBDizdjFz20O",
        "outputId": "9d463f3e-676c-4168-e536-d810ed2d73b7"
      },
      "source": [
        "from sklearn.preprocessing import StandardScaler\n",
        " \n",
        "numerical_features = ['carat']\n",
        "scaler = StandardScaler()\n",
        "scaler.fit(X_train[numerical_features])\n",
        "X_train[numerical_features] = scaler.transform(X_train.loc[:, numerical_features])\n",
        "X_train[numerical_features].head()"
      ],
      "execution_count": null,
      "outputs": [
        {
          "output_type": "stream",
          "name": "stderr",
          "text": [
            "/usr/local/lib/python3.7/dist-packages/ipykernel_launcher.py:6: SettingWithCopyWarning: \n",
            "A value is trying to be set on a copy of a slice from a DataFrame.\n",
            "Try using .loc[row_indexer,col_indexer] = value instead\n",
            "\n",
            "See the caveats in the documentation: https://pandas.pydata.org/pandas-docs/stable/user_guide/indexing.html#returning-a-view-versus-a-copy\n",
            "  \n",
            "/usr/local/lib/python3.7/dist-packages/pandas/core/indexing.py:1734: SettingWithCopyWarning: \n",
            "A value is trying to be set on a copy of a slice from a DataFrame.\n",
            "Try using .loc[row_indexer,col_indexer] = value instead\n",
            "\n",
            "See the caveats in the documentation: https://pandas.pydata.org/pandas-docs/stable/user_guide/indexing.html#returning-a-view-versus-a-copy\n",
            "  isetter(loc, value[:, i].tolist())\n"
          ]
        },
        {
          "output_type": "execute_result",
          "data": {
            "text/html": [
              "<div>\n",
              "<style scoped>\n",
              "    .dataframe tbody tr th:only-of-type {\n",
              "        vertical-align: middle;\n",
              "    }\n",
              "\n",
              "    .dataframe tbody tr th {\n",
              "        vertical-align: top;\n",
              "    }\n",
              "\n",
              "    .dataframe thead th {\n",
              "        text-align: right;\n",
              "    }\n",
              "</style>\n",
              "<table border=\"1\" class=\"dataframe\">\n",
              "  <thead>\n",
              "    <tr style=\"text-align: right;\">\n",
              "      <th></th>\n",
              "      <th>carat</th>\n",
              "    </tr>\n",
              "  </thead>\n",
              "  <tbody>\n",
              "    <tr>\n",
              "      <th>40164</th>\n",
              "      <td>-0.477224</td>\n",
              "    </tr>\n",
              "    <tr>\n",
              "      <th>93357</th>\n",
              "      <td>0.811917</td>\n",
              "    </tr>\n",
              "    <tr>\n",
              "      <th>3345</th>\n",
              "      <td>-0.979771</td>\n",
              "    </tr>\n",
              "    <tr>\n",
              "      <th>38088</th>\n",
              "      <td>-0.105777</td>\n",
              "    </tr>\n",
              "    <tr>\n",
              "      <th>46499</th>\n",
              "      <td>-0.542774</td>\n",
              "    </tr>\n",
              "  </tbody>\n",
              "</table>\n",
              "</div>"
            ],
            "text/plain": [
              "          carat\n",
              "40164 -0.477224\n",
              "93357  0.811917\n",
              "3345  -0.979771\n",
              "38088 -0.105777\n",
              "46499 -0.542774"
            ]
          },
          "metadata": {},
          "execution_count": 31
        }
      ]
    },
    {
      "cell_type": "code",
      "metadata": {
        "colab": {
          "base_uri": "https://localhost:8080/",
          "height": 295
        },
        "id": "8OoOxAmiz39z",
        "outputId": "0c29e102-9493-4c54-b1b7-1acd892adccb"
      },
      "source": [
        "X_train[numerical_features].describe().round(4)"
      ],
      "execution_count": null,
      "outputs": [
        {
          "output_type": "execute_result",
          "data": {
            "text/html": [
              "<div>\n",
              "<style scoped>\n",
              "    .dataframe tbody tr th:only-of-type {\n",
              "        vertical-align: middle;\n",
              "    }\n",
              "\n",
              "    .dataframe tbody tr th {\n",
              "        vertical-align: top;\n",
              "    }\n",
              "\n",
              "    .dataframe thead th {\n",
              "        text-align: right;\n",
              "    }\n",
              "</style>\n",
              "<table border=\"1\" class=\"dataframe\">\n",
              "  <thead>\n",
              "    <tr style=\"text-align: right;\">\n",
              "      <th></th>\n",
              "      <th>carat</th>\n",
              "    </tr>\n",
              "  </thead>\n",
              "  <tbody>\n",
              "    <tr>\n",
              "      <th>count</th>\n",
              "      <td>97115.0000</td>\n",
              "    </tr>\n",
              "    <tr>\n",
              "      <th>mean</th>\n",
              "      <td>-0.0000</td>\n",
              "    </tr>\n",
              "    <tr>\n",
              "      <th>std</th>\n",
              "      <td>1.0000</td>\n",
              "    </tr>\n",
              "    <tr>\n",
              "      <th>min</th>\n",
              "      <td>-1.0890</td>\n",
              "    </tr>\n",
              "    <tr>\n",
              "      <th>25%</th>\n",
              "      <td>-0.7613</td>\n",
              "    </tr>\n",
              "    <tr>\n",
              "      <th>50%</th>\n",
              "      <td>-0.3898</td>\n",
              "    </tr>\n",
              "    <tr>\n",
              "      <th>75%</th>\n",
              "      <td>0.5716</td>\n",
              "    </tr>\n",
              "    <tr>\n",
              "      <th>max</th>\n",
              "      <td>3.0625</td>\n",
              "    </tr>\n",
              "  </tbody>\n",
              "</table>\n",
              "</div>"
            ],
            "text/plain": [
              "            carat\n",
              "count  97115.0000\n",
              "mean      -0.0000\n",
              "std        1.0000\n",
              "min       -1.0890\n",
              "25%       -0.7613\n",
              "50%       -0.3898\n",
              "75%        0.5716\n",
              "max        3.0625"
            ]
          },
          "metadata": {},
          "execution_count": 32
        }
      ]
    },
    {
      "cell_type": "markdown",
      "metadata": {
        "id": "s4OLl9WVGuDZ"
      },
      "source": [
        "# **Modelling**\n",
        "Pada tahap ini saya mengembangkan model machine learning dengan tiga algoritma, kemudian mengevaluasi performa masing-masing algoritma dan menentukan hasil terbaik.\n",
        "\n",
        "Algoritma yang digunakan :\n",
        "\n",
        "*   K-Nearest Neighbor\n",
        "*   Random Forest\n",
        "*   Boosting Algoritm\n",
        "\n"
      ]
    },
    {
      "cell_type": "code",
      "metadata": {
        "id": "rA8WO0xCz59D"
      },
      "source": [
        "models = pd.DataFrame(index=['train_mse', 'test_mse'], \n",
        "                      columns=['KNN', 'RandomForest', 'Boosting'])"
      ],
      "execution_count": null,
      "outputs": []
    },
    {
      "cell_type": "markdown",
      "metadata": {
        "id": "1eg1nDYdHTIT"
      },
      "source": [
        "## **K-Nearest Neighbor**\n",
        "pada algoritma kkn ini bekerja dengan membandingkan jarak satu sampel ke sampel pelatihan lain dengan memilih jumlah k-tetangga terdekat."
      ]
    },
    {
      "cell_type": "code",
      "metadata": {
        "id": "68_VRtvCz8IS"
      },
      "source": [
        "from sklearn.neighbors import KNeighborsRegressor\n",
        " \n",
        "knn = KNeighborsRegressor(n_neighbors=10)\n",
        "knn.fit(X_train, y_train)\n",
        "y_pred_knn = knn.predict(X_train)"
      ],
      "execution_count": null,
      "outputs": []
    },
    {
      "cell_type": "markdown",
      "metadata": {
        "id": "1ZeuAi_tHyxj"
      },
      "source": [
        "## **Random Forest**\n",
        "pada algoritma ini menggunakan teknik bagging dari algoritma decision tree."
      ]
    },
    {
      "cell_type": "code",
      "metadata": {
        "id": "VKGAD-wD06iK"
      },
      "source": [
        "from sklearn.metrics import mean_squared_error\n",
        "from sklearn.ensemble import RandomForestRegressor\n",
        "\n",
        "RF = RandomForestRegressor(n_estimators=50, max_depth=16, random_state=55, n_jobs=-1)\n",
        "RF.fit(X_train, y_train)\n",
        " \n",
        "models.loc['train_mse','RandomForest'] = mean_squared_error(y_pred=RF.predict(X_train), y_true=y_train)"
      ],
      "execution_count": null,
      "outputs": []
    },
    {
      "cell_type": "markdown",
      "metadata": {
        "id": "gM1oXPKWIiw0"
      },
      "source": [
        "## **Boosting Algoritm**\n",
        "pada algoritma ini bekerja dengan membangun model dari data latih, kemudian membuat model kedua untuk memperbaiki model pertama."
      ]
    },
    {
      "cell_type": "code",
      "metadata": {
        "id": "X7IXY7_M1C_P"
      },
      "source": [
        "from sklearn.ensemble import AdaBoostRegressor\n",
        " \n",
        "boosting = AdaBoostRegressor(n_estimators=50, learning_rate=0.05, random_state=55)                             \n",
        "boosting.fit(X_train, y_train)\n",
        "models.loc['train_mse','Boosting'] = mean_squared_error(y_pred=boosting.predict(X_train), y_true=y_train)"
      ],
      "execution_count": null,
      "outputs": []
    },
    {
      "cell_type": "markdown",
      "metadata": {
        "id": "AMkG8ltgJFKq"
      },
      "source": [
        "# **Model Evaluation**\n",
        "Pada bagian ini saya akan mengevaluasi hasil dari model regresi dengan membandingkan hasil prediksi dari tiga algoritma KKN, RF dan Boosting. Metrik yang digunakan pada prediksi ini adalah MSE (Mean Squared Error) yang menghitung selisih rata-rata nilai sebenarnya dengan nilai prediksi."
      ]
    },
    {
      "cell_type": "code",
      "metadata": {
        "colab": {
          "base_uri": "https://localhost:8080/"
        },
        "id": "uMDgX0pJ1JU0",
        "outputId": "2dcd0bab-56b9-409a-c289-1c55e3dfe114"
      },
      "source": [
        "X_test.loc[:, numerical_features] = scaler.transform(X_test[numerical_features])"
      ],
      "execution_count": null,
      "outputs": [
        {
          "output_type": "stream",
          "name": "stderr",
          "text": [
            "/usr/local/lib/python3.7/dist-packages/pandas/core/indexing.py:1734: SettingWithCopyWarning: \n",
            "A value is trying to be set on a copy of a slice from a DataFrame.\n",
            "Try using .loc[row_indexer,col_indexer] = value instead\n",
            "\n",
            "See the caveats in the documentation: https://pandas.pydata.org/pandas-docs/stable/user_guide/indexing.html#returning-a-view-versus-a-copy\n",
            "  isetter(loc, value[:, i].tolist())\n"
          ]
        }
      ]
    },
    {
      "cell_type": "code",
      "metadata": {
        "colab": {
          "base_uri": "https://localhost:8080/",
          "height": 142
        },
        "id": "vguvgvNX1KQu",
        "outputId": "29e7d2af-73b5-4ad1-b9b5-f91926846ebd"
      },
      "source": [
        "mse = pd.DataFrame(columns=['train', 'test'], index=['KNN','RF','Boosting'])\n",
        "model_dict = {'KNN': knn, 'RF': RF, 'Boosting': boosting}\n",
        "for name, model in model_dict.items():\n",
        "    mse.loc[name, 'train'] = mean_squared_error(y_true=y_train, y_pred=model.predict(X_train))/1e3 \n",
        "    mse.loc[name, 'test'] = mean_squared_error(y_true=y_test, y_pred=model.predict(X_test))/1e3\n",
        " \n",
        "mse"
      ],
      "execution_count": null,
      "outputs": [
        {
          "output_type": "execute_result",
          "data": {
            "text/html": [
              "<div>\n",
              "<style scoped>\n",
              "    .dataframe tbody tr th:only-of-type {\n",
              "        vertical-align: middle;\n",
              "    }\n",
              "\n",
              "    .dataframe tbody tr th {\n",
              "        vertical-align: top;\n",
              "    }\n",
              "\n",
              "    .dataframe thead th {\n",
              "        text-align: right;\n",
              "    }\n",
              "</style>\n",
              "<table border=\"1\" class=\"dataframe\">\n",
              "  <thead>\n",
              "    <tr style=\"text-align: right;\">\n",
              "      <th></th>\n",
              "      <th>train</th>\n",
              "      <th>test</th>\n",
              "    </tr>\n",
              "  </thead>\n",
              "  <tbody>\n",
              "    <tr>\n",
              "      <th>KNN</th>\n",
              "      <td>119.613</td>\n",
              "      <td>149.591</td>\n",
              "    </tr>\n",
              "    <tr>\n",
              "      <th>RF</th>\n",
              "      <td>32.1256</td>\n",
              "      <td>49.4789</td>\n",
              "    </tr>\n",
              "    <tr>\n",
              "      <th>Boosting</th>\n",
              "      <td>484.457</td>\n",
              "      <td>474.958</td>\n",
              "    </tr>\n",
              "  </tbody>\n",
              "</table>\n",
              "</div>"
            ],
            "text/plain": [
              "            train     test\n",
              "KNN       119.613  149.591\n",
              "RF        32.1256  49.4789\n",
              "Boosting  484.457  474.958"
            ]
          },
          "metadata": {},
          "execution_count": 38
        }
      ]
    },
    {
      "cell_type": "code",
      "metadata": {
        "colab": {
          "base_uri": "https://localhost:8080/",
          "height": 265
        },
        "id": "Rx-CehkM2Q7t",
        "outputId": "063b1aab-3af7-404b-a89b-6a3b3cce9e4d"
      },
      "source": [
        "fig, ax = plt.subplots()\n",
        "mse.sort_values(by='test', ascending=False).plot(kind='barh', ax=ax, zorder=3)\n",
        "ax.grid(zorder=0)"
      ],
      "execution_count": null,
      "outputs": [
        {
          "output_type": "display_data",
          "data": {
            "image/png": "[encoded data removed]",
            "text/plain": [
              "<Figure size 432x288 with 1 Axes>"
            ]
          },
          "metadata": {
            "needs_background": "light"
          }
        }
      ]
    },
    {
      "cell_type": "code",
      "metadata": {
        "colab": {
          "base_uri": "https://localhost:8080/",
          "height": 80
        },
        "id": "e4UWzH8e2S53",
        "outputId": "6a4ae2c6-2e5d-4ca9-cf24-c5b877646431"
      },
      "source": [
        "prediksi = X_test.iloc[:1].copy()\n",
        "pred_dict = {'y_true':y_test[:1]}\n",
        "for name, model in model_dict.items():\n",
        "    pred_dict['prediksi_'+name] = model.predict(prediksi).round(1)\n",
        " \n",
        "pd.DataFrame(pred_dict)"
      ],
      "execution_count": null,
      "outputs": [
        {
          "output_type": "execute_result",
          "data": {
            "text/html": [
              "<div>\n",
              "<style scoped>\n",
              "    .dataframe tbody tr th:only-of-type {\n",
              "        vertical-align: middle;\n",
              "    }\n",
              "\n",
              "    .dataframe tbody tr th {\n",
              "        vertical-align: top;\n",
              "    }\n",
              "\n",
              "    .dataframe thead th {\n",
              "        text-align: right;\n",
              "    }\n",
              "</style>\n",
              "<table border=\"1\" class=\"dataframe\">\n",
              "  <thead>\n",
              "    <tr style=\"text-align: right;\">\n",
              "      <th></th>\n",
              "      <th>y_true</th>\n",
              "      <th>prediksi_KNN</th>\n",
              "      <th>prediksi_RF</th>\n",
              "      <th>prediksi_Boosting</th>\n",
              "    </tr>\n",
              "  </thead>\n",
              "  <tbody>\n",
              "    <tr>\n",
              "      <th>45580</th>\n",
              "      <td>2430</td>\n",
              "      <td>2424.0</td>\n",
              "      <td>2561.4</td>\n",
              "      <td>2168.3</td>\n",
              "    </tr>\n",
              "  </tbody>\n",
              "</table>\n",
              "</div>"
            ],
            "text/plain": [
              "       y_true  prediksi_KNN  prediksi_RF  prediksi_Boosting\n",
              "45580    2430        2424.0       2561.4             2168.3"
            ]
          },
          "metadata": {},
          "execution_count": 40
        }
      ]
    }
  ]
}